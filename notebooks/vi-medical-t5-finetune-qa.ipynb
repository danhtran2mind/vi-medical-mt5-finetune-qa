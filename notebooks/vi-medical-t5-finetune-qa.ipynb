{
 "cells": [
  {
   "cell_type": "markdown",
   "metadata": {},
   "source": [
    "# Setup Working directory"
   ]
  },
  {
   "cell_type": "code",
   "execution_count": null,
   "metadata": {},
   "outputs": [],
   "source": [
    "import os\n",
    "\n",
    "if os.path.basename(os.getcwd()) == \"notebooks\":\n",
    "    os.chdir(\"../\")"
   ]
  },
  {
   "cell_type": "markdown",
   "metadata": {},
   "source": [
    "# Download Dependencies"
   ]
  },
  {
   "cell_type": "markdown",
   "metadata": {},
   "source": [
    "## Install Libraries"
   ]
  },
  {
   "cell_type": "code",
   "execution_count": 1,
   "metadata": {
    "execution": {
     "iopub.execute_input": "2025-04-05T16:03:41.565238Z",
     "iopub.status.busy": "2025-04-05T16:03:41.564958Z",
     "iopub.status.idle": "2025-04-05T16:03:47.190450Z",
     "shell.execute_reply": "2025-04-05T16:03:47.189468Z",
     "shell.execute_reply.started": "2025-04-05T16:03:41.565218Z"
    },
    "id": "UozqNhQ2ZShu",
    "outputId": "aa839538-e501-412f-b82b-9c3194b1a25c",
    "trusted": true
   },
   "outputs": [
    {
     "name": "stdout",
     "output_type": "stream",
     "text": [
      "\u001b[2K   \u001b[90m━━━━━━━━━━━━━━━━━━━━━━━━━━━━━━━━━━━━━━━━\u001b[0m \u001b[32m20.9/20.9 MB\u001b[0m \u001b[31m84.2 MB/s\u001b[0m eta \u001b[36m0:00:00\u001b[0m:00:01\u001b[0m00:01\u001b[0m\n",
      "\u001b[2K   \u001b[90m━━━━━━━━━━━━━━━━━━━━━━━━━━━━━━━━━━━━━━━━\u001b[0m \u001b[32m657.8/657.8 kB\u001b[0m \u001b[31m33.9 MB/s\u001b[0m eta \u001b[36m0:00:00\u001b[0m\n",
      "\u001b[2K   \u001b[90m━━━━━━━━━━━━━━━━━━━━━━━━━━━━━━━━━━━━━━━━\u001b[0m \u001b[32m1.2/1.2 MB\u001b[0m \u001b[31m55.4 MB/s\u001b[0m eta \u001b[36m0:00:00\u001b[0m\n",
      "\u001b[?25h"
     ]
    }
   ],
   "source": [
    "!pip install -q transformers datasets pandas underthesea"
   ]
  },
  {
   "cell_type": "markdown",
   "metadata": {},
   "source": [
    "## Download Dataset"
   ]
  },
  {
   "cell_type": "code",
   "execution_count": 2,
   "metadata": {
    "execution": {
     "iopub.execute_input": "2025-04-05T16:03:47.191688Z",
     "iopub.status.busy": "2025-04-05T16:03:47.191469Z",
     "iopub.status.idle": "2025-04-05T16:03:48.394694Z",
     "shell.execute_reply": "2025-04-05T16:03:48.393593Z",
     "shell.execute_reply.started": "2025-04-05T16:03:47.191668Z"
    },
    "id": "sk0GBYgTZlsT",
    "outputId": "ec8ca678-6661-49f9-b7a3-42907d611bba",
    "trusted": true
   },
   "outputs": [
    {
     "name": "stdout",
     "output_type": "stream",
     "text": [
      "Cloning into 'UIT-ViCoV19QA'...\n",
      "remote: Enumerating objects: 81, done.\u001b[K\n",
      "remote: Counting objects: 100% (81/81), done.\u001b[K\n",
      "remote: Compressing objects: 100% (62/62), done.\u001b[K\n",
      "remote: Total 81 (delta 26), reused 54 (delta 15), pack-reused 0 (from 0)\u001b[K\n",
      "Receiving objects: 100% (81/81), 1.75 MiB | 12.87 MiB/s, done.\n",
      "Resolving deltas: 100% (26/26), done.\n"
     ]
    }
   ],
   "source": [
    "!git clone https://github.com/triet2397/UIT-ViCoV19QA"
   ]
  },
  {
   "cell_type": "code",
   "execution_count": 3,
   "metadata": {
    "execution": {
     "iopub.execute_input": "2025-04-05T16:03:48.396764Z",
     "iopub.status.busy": "2025-04-05T16:03:48.396522Z",
     "iopub.status.idle": "2025-04-05T16:03:48.426409Z",
     "shell.execute_reply": "2025-04-05T16:03:48.425594Z",
     "shell.execute_reply.started": "2025-04-05T16:03:48.396743Z"
    },
    "id": "oixfxyF2Zmmd",
    "outputId": "c5ec91f2-6f85-430c-d879-e0785537952e",
    "trusted": true
   },
   "outputs": [
    {
     "data": {
      "text/plain": [
       "'dataset'"
      ]
     },
     "execution_count": 3,
     "metadata": {},
     "output_type": "execute_result"
    }
   ],
   "source": [
    "import os\n",
    "import shutil\n",
    "\n",
    "os.makedirs(\"dataset\", exist_ok=True)\n",
    "shutil.copytree(\"UIT-ViCoV19QA/dataset\", \"dataset\", dirs_exist_ok=True)"
   ]
  },
  {
   "cell_type": "markdown",
   "metadata": {},
   "source": [
    "# Import Libraries"
   ]
  },
  {
   "cell_type": "code",
   "execution_count": 4,
   "metadata": {
    "execution": {
     "iopub.execute_input": "2025-04-05T16:03:48.428114Z",
     "iopub.status.busy": "2025-04-05T16:03:48.427837Z",
     "iopub.status.idle": "2025-04-05T16:04:21.264724Z",
     "shell.execute_reply": "2025-04-05T16:04:21.264077Z",
     "shell.execute_reply.started": "2025-04-05T16:03:48.428093Z"
    },
    "id": "hHpnEDGcZn5b",
    "trusted": true
   },
   "outputs": [],
   "source": [
    "import pandas as pd\n",
    "import numpy as np\n",
    "import matplotlib.pyplot as plt\n",
    "import matplotlib.ticker as mticker\n",
    "from sklearn.model_selection import train_test_split\n",
    "import re, string\n",
    "from gensim.models import KeyedVectors\n",
    "from collections import Counter\n",
    "from underthesea import word_tokenize\n",
    "from tensorflow.keras.preprocessing.text import Tokenizer\n",
    "from tensorflow.keras.preprocessing.sequence import pad_sequences\n",
    "import tensorflow as tf\n",
    "from tensorflow.keras import preprocessing, utils, activations\n",
    "# from keras.callbacks import ModelCheckpoint\n",
    "import warnings\n",
    "warnings.filterwarnings('ignore')"
   ]
  },
  {
   "cell_type": "markdown",
   "metadata": {},
   "source": [
    "# Data Processing"
   ]
  },
  {
   "cell_type": "markdown",
   "metadata": {},
   "source": [
    "## Pre-Processing"
   ]
  },
  {
   "cell_type": "code",
   "execution_count": 5,
   "metadata": {
    "execution": {
     "iopub.execute_input": "2025-04-05T16:04:21.266294Z",
     "iopub.status.busy": "2025-04-05T16:04:21.265617Z",
     "iopub.status.idle": "2025-04-05T16:04:21.271190Z",
     "shell.execute_reply": "2025-04-05T16:04:21.270296Z",
     "shell.execute_reply.started": "2025-04-05T16:04:21.266270Z"
    },
    "id": "bempA-zQZpBP",
    "trusted": true
   },
   "outputs": [],
   "source": [
    "def melt_dataframe_and_drop_na(_df):\n",
    "  # Melt the DataFrame\n",
    "  melted_df = pd.melt(_df, id_vars=['id', 'Question'], value_vars=['Answer_1', 'Answer_2', 'Answer_3', 'Answer_4'],\n",
    "                      var_name='Answer_Number', value_name='Answer')\n",
    "  # Remove the 'Answer_' prefix from the Answer_Number column\n",
    "  melted_df['Answer_Number'] = melted_df['Answer_Number'].str.replace('Answer_', '')\n",
    "  # Reorder the columns to match the desired format\n",
    "  melted_df = melted_df[['id', 'Question', 'Answer']]\n",
    "  # Replace columns name\n",
    "  melted_df = melted_df.rename(columns={'Question': 'question', 'Answer': 'answer'})\n",
    "  melted_df = melted_df.drop(columns=['id'])\n",
    "  # Drop NaN values\n",
    "  melted_df = melted_df.dropna()\n",
    "  # Drop duplicate rows\n",
    "  melted_df = melted_df.drop_duplicates()\n",
    "\n",
    "  return melted_df"
   ]
  },
  {
   "cell_type": "code",
   "execution_count": 6,
   "metadata": {
    "execution": {
     "iopub.execute_input": "2025-04-05T16:04:21.272459Z",
     "iopub.status.busy": "2025-04-05T16:04:21.272169Z",
     "iopub.status.idle": "2025-04-05T16:04:21.483844Z",
     "shell.execute_reply": "2025-04-05T16:04:21.483120Z",
     "shell.execute_reply.started": "2025-04-05T16:04:21.272430Z"
    },
    "id": "4RSmYXAdZp97",
    "outputId": "c0a5a235-842d-4f67-80bb-c1cc4d1f4d1e",
    "trusted": true
   },
   "outputs": [
    {
     "data": {
      "text/html": [
       "<div>\n",
       "<style scoped>\n",
       "    .dataframe tbody tr th:only-of-type {\n",
       "        vertical-align: middle;\n",
       "    }\n",
       "\n",
       "    .dataframe tbody tr th {\n",
       "        vertical-align: top;\n",
       "    }\n",
       "\n",
       "    .dataframe thead th {\n",
       "        text-align: right;\n",
       "    }\n",
       "</style>\n",
       "<table border=\"1\" class=\"dataframe\">\n",
       "  <thead>\n",
       "    <tr style=\"text-align: right;\">\n",
       "      <th></th>\n",
       "      <th>question</th>\n",
       "      <th>answer</th>\n",
       "    </tr>\n",
       "  </thead>\n",
       "  <tbody>\n",
       "    <tr>\n",
       "      <th>0</th>\n",
       "      <td>Tại sao bệnh này lại được gọi là bệnh vi-rút c...</td>\n",
       "      <td>Vào ngày 11 tháng 2 năm 2020, Tổ Chức Y Tế Thế...</td>\n",
       "    </tr>\n",
       "    <tr>\n",
       "      <th>1</th>\n",
       "      <td>Vi-rút lây lan như thế nào?</td>\n",
       "      <td>COVID-19 được cho là lây lan chủ yếu thông qua...</td>\n",
       "    </tr>\n",
       "    <tr>\n",
       "      <th>2</th>\n",
       "      <td>Lây lan trong cộng đồng là gì?</td>\n",
       "      <td>Lây lan trong cộng đồng nghĩa là mọi người bị ...</td>\n",
       "    </tr>\n",
       "    <tr>\n",
       "      <th>3</th>\n",
       "      <td>Muỗi hay ve có thể truyền vi-rút gây bệnh COVI...</td>\n",
       "      <td>Tại thời điểm này, CDC không có dữ liệu nào ch...</td>\n",
       "    </tr>\n",
       "    <tr>\n",
       "      <th>4</th>\n",
       "      <td>Làm thế nào tôi có thể tự bảo vệ bản thân khỏi...</td>\n",
       "      <td>Truy cập trang Cách Bảo Vệ Bản Thân Và Người K...</td>\n",
       "    </tr>\n",
       "  </tbody>\n",
       "</table>\n",
       "</div>"
      ],
      "text/plain": [
       "                                            question  \\\n",
       "0  Tại sao bệnh này lại được gọi là bệnh vi-rút c...   \n",
       "1                        Vi-rút lây lan như thế nào?   \n",
       "2                     Lây lan trong cộng đồng là gì?   \n",
       "3  Muỗi hay ve có thể truyền vi-rút gây bệnh COVI...   \n",
       "4  Làm thế nào tôi có thể tự bảo vệ bản thân khỏi...   \n",
       "\n",
       "                                              answer  \n",
       "0  Vào ngày 11 tháng 2 năm 2020, Tổ Chức Y Tế Thế...  \n",
       "1  COVID-19 được cho là lây lan chủ yếu thông qua...  \n",
       "2  Lây lan trong cộng đồng nghĩa là mọi người bị ...  \n",
       "3  Tại thời điểm này, CDC không có dữ liệu nào ch...  \n",
       "4  Truy cập trang Cách Bảo Vệ Bản Thân Và Người K...  "
      ]
     },
     "execution_count": 6,
     "metadata": {},
     "output_type": "execute_result"
    }
   ],
   "source": [
    "df = pd.read_csv('dataset/UIT-ViCoV19QA.csv', sep='|')\n",
    "df = melt_dataframe_and_drop_na(df)\n",
    "df.head()"
   ]
  },
  {
   "cell_type": "code",
   "execution_count": 7,
   "metadata": {
    "execution": {
     "iopub.execute_input": "2025-04-05T16:04:21.484847Z",
     "iopub.status.busy": "2025-04-05T16:04:21.484622Z",
     "iopub.status.idle": "2025-04-05T16:04:21.488431Z",
     "shell.execute_reply": "2025-04-05T16:04:21.487757Z",
     "shell.execute_reply.started": "2025-04-05T16:04:21.484828Z"
    },
    "id": "2wHg3bZyZsLj",
    "trusted": true
   },
   "outputs": [],
   "source": [
    "data = df.values\n",
    "questions = data[:, 0]\n",
    "answers = data[:, 1]"
   ]
  },
  {
   "cell_type": "code",
   "execution_count": 8,
   "metadata": {
    "execution": {
     "iopub.execute_input": "2025-04-05T16:04:21.490936Z",
     "iopub.status.busy": "2025-04-05T16:04:21.490702Z",
     "iopub.status.idle": "2025-04-05T16:04:23.042518Z",
     "shell.execute_reply": "2025-04-05T16:04:23.041712Z",
     "shell.execute_reply.started": "2025-04-05T16:04:21.490917Z"
    },
    "id": "ohD4t62wZuHV",
    "outputId": "af7ab050-792a-404e-a96b-89c5dd95b774",
    "trusted": true
   },
   "outputs": [
    {
     "data": {
      "image/png": "[encoded data removed]",
      "text/plain": [
       "<Figure size 1150x450 with 2 Axes>"
      ]
     },
     "metadata": {},
     "output_type": "display_data"
    }
   ],
   "source": [
    "# Function to count words in a list of strings\n",
    "def count_words(lst):\n",
    "    return [len(sent.split()) for sent in lst]\n",
    "\n",
    "# Count the number of words in questions and answers\n",
    "question_word_counts = count_words(questions)\n",
    "answer_word_counts = count_words(answers)\n",
    "\n",
    "# Create a DataFrame for better visualization\n",
    "count_df = pd.DataFrame({\n",
    "    'Question Word Count': question_word_counts,\n",
    "    'Answer Word Count': answer_word_counts\n",
    "})\n",
    "\n",
    "# Calculate mean and standard deviation\n",
    "question_mean = np.mean(question_word_counts)\n",
    "question_std = np.std(question_word_counts)\n",
    "answer_mean = np.mean(answer_word_counts)\n",
    "answer_std = np.std(answer_word_counts)\n",
    "\n",
    "# Plot the distribution of word counts\n",
    "fig, axes = plt.subplots(1, 2, figsize=(11.5, 4.5))\n",
    "\n",
    "# Plot the distribution of question word counts\n",
    "count_df['Question Word Count'].plot(kind='hist', ax=axes[0], bins=200, alpha=0.7, color='blue')\n",
    "axes[0].set_title('Distribution of Question Word Counts')\n",
    "axes[0].set_xlabel('Number of Words')\n",
    "axes[0].set_ylabel('Frequency')\n",
    "\n",
    "# Set x-axis ticks to every 50th value\n",
    "axes[0].xaxis.set_major_locator(mticker.MultipleLocator(50))\n",
    "\n",
    "# Rotate x-axis labels by 75 degrees\n",
    "for label in axes[0].get_xticklabels():\n",
    "    label.set_rotation(75)\n",
    "\n",
    "# Add mean and sigma lines for questions\n",
    "axes[0].axvline(question_mean, color='red', linestyle='dashed', linewidth=2, label='Mean')\n",
    "axes[0].axvline(question_mean + question_std, color='orange', linestyle='dashed', linewidth=2, label='+1 Sigma')\n",
    "axes[0].axvline(question_mean + 2 * question_std, color='gold', linestyle='dashed', linewidth=2, label='+2 Sigma')\n",
    "axes[0].axvline(question_mean + 3 * question_std, color='yellow', linestyle='dashed', linewidth=2, label='+3 Sigma')\n",
    "axes[0].axvline(question_mean + 4 * question_std, color='green', linestyle='dashed', linewidth=2, label='+4 Sigma')\n",
    "axes[0].axvline(question_mean + 5 * question_std, color='blue', linestyle='dashed', linewidth=2, label='+5 Sigma')\n",
    "axes[0].axvline(question_mean + 6 * question_std, color='purple', linestyle='dashed', linewidth=2, label='+6 Sigma')\n",
    "axes[0].legend()\n",
    "\n",
    "# Plot the distribution of answer word counts\n",
    "count_df['Answer Word Count'].plot(kind='hist', ax=axes[1], bins=200, alpha=0.7, color='green')\n",
    "axes[1].set_title('Distribution of Answer Word Counts')\n",
    "axes[1].set_xlabel('Number of Words')\n",
    "axes[1].set_ylabel('Frequency')\n",
    "\n",
    "# Set x-axis ticks to every 50th value\n",
    "axes[1].xaxis.set_major_locator(mticker.MultipleLocator(50))\n",
    "\n",
    "# Rotate x-axis labels by 75 degrees\n",
    "for label in axes[1].get_xticklabels():\n",
    "    label.set_rotation(75)\n",
    "\n",
    "# Add mean and sigma lines for answers\n",
    "axes[1].axvline(answer_mean, color='red', linestyle='dashed', linewidth=2, label='Mean')\n",
    "axes[1].axvline(answer_mean + answer_std, color='orange', linestyle='dashed', linewidth=2, label='+1 Sigma')\n",
    "axes[1].axvline(answer_mean + 2 * answer_std, color='gold', linestyle='dashed', linewidth=2, label='+2 Sigma')\n",
    "axes[1].axvline(answer_mean + 3 * answer_std, color='yellow', linestyle='dashed', linewidth=2, label='+3 Sigma')\n",
    "axes[1].axvline(answer_mean + 4 * answer_std, color='green', linestyle='dashed', linewidth=2, label='+4 Sigma')\n",
    "axes[1].axvline(answer_mean + 5 * answer_std, color='blue', linestyle='dashed', linewidth=2, label='+5 Sigma')\n",
    "axes[1].axvline(answer_mean + 6 * answer_std, color='purple', linestyle='dashed', linewidth=2, label='+6 Sigma')\n",
    "axes[1].legend()\n",
    "\n",
    "plt.tight_layout()\n",
    "plt.show()\n"
   ]
  },
  {
   "cell_type": "code",
   "execution_count": 9,
   "metadata": {
    "execution": {
     "iopub.execute_input": "2025-04-05T16:04:23.044645Z",
     "iopub.status.busy": "2025-04-05T16:04:23.044418Z",
     "iopub.status.idle": "2025-04-05T16:05:16.210701Z",
     "shell.execute_reply": "2025-04-05T16:05:16.209889Z",
     "shell.execute_reply.started": "2025-04-05T16:04:23.044626Z"
    },
    "id": "vo5WYfjuZvk0",
    "trusted": true
   },
   "outputs": [],
   "source": [
    "# Tokenization questions and answers\n",
    "questions = [word_tokenize(ques, format='text') for ques in questions]\n",
    "answers = [word_tokenize(ans, format='text') for ans in answers]"
   ]
  },
  {
   "cell_type": "code",
   "execution_count": null,
   "metadata": {
    "execution": {
     "iopub.execute_input": "2025-04-05T16:05:16.211850Z",
     "iopub.status.busy": "2025-04-05T16:05:16.211601Z",
     "iopub.status.idle": "2025-04-05T16:05:16.221098Z",
     "shell.execute_reply": "2025-04-05T16:05:16.220295Z",
     "shell.execute_reply.started": "2025-04-05T16:05:16.211830Z"
    },
    "id": "izz94RzyafH1",
    "trusted": true
   },
   "outputs": [],
   "source": [
    "my_df = pd.DataFrame()\n",
    "my_df['question'] = questions\n",
    "my_df['answer'] = answers"
   ]
  },
  {
   "cell_type": "code",
   "execution_count": null,
   "metadata": {
    "execution": {
     "iopub.execute_input": "2025-04-05T16:05:16.222191Z",
     "iopub.status.busy": "2025-04-05T16:05:16.221897Z",
     "iopub.status.idle": "2025-04-05T16:05:26.698706Z",
     "shell.execute_reply": "2025-04-05T16:05:26.697517Z",
     "shell.execute_reply.started": "2025-04-05T16:05:16.222163Z"
    },
    "id": "P2pHATnJZZeu",
    "outputId": "804756ed-383e-4a70-8969-a72d295ef76a",
    "trusted": true
   },
   "outputs": [
    {
     "data": {
      "application/vnd.jupyter.widget-view+json": {
       "model_id": "a1ce8d22b60a4a51a840a851d5d1a843",
       "version_major": 2,
       "version_minor": 0
      },
      "text/plain": [
       "tokenizer_config.json:   0%|          | 0.00/82.0 [00:00<?, ?B/s]"
      ]
     },
     "metadata": {},
     "output_type": "display_data"
    },
    {
     "data": {
      "application/vnd.jupyter.widget-view+json": {
       "model_id": "6c6becc544fb4aafba543065047ce4c4",
       "version_major": 2,
       "version_minor": 0
      },
      "text/plain": [
       "config.json:   0%|          | 0.00/553 [00:00<?, ?B/s]"
      ]
     },
     "metadata": {},
     "output_type": "display_data"
    },
    {
     "data": {
      "application/vnd.jupyter.widget-view+json": {
       "model_id": "782372001748457fb46e6b0bed21d30f",
       "version_major": 2,
       "version_minor": 0
      },
      "text/plain": [
       "spiece.model:   0%|          | 0.00/4.31M [00:00<?, ?B/s]"
      ]
     },
     "metadata": {},
     "output_type": "display_data"
    },
    {
     "data": {
      "application/vnd.jupyter.widget-view+json": {
       "model_id": "7760b49efeb349e4bb45e838ff113839",
       "version_major": 2,
       "version_minor": 0
      },
      "text/plain": [
       "special_tokens_map.json:   0%|          | 0.00/99.0 [00:00<?, ?B/s]"
      ]
     },
     "metadata": {},
     "output_type": "display_data"
    },
    {
     "name": "stderr",
     "output_type": "stream",
     "text": [
      "You are using the default legacy behaviour of the <class 'transformers.models.t5.tokenization_t5.T5Tokenizer'>. This is expected, and simply means that the `legacy` (previous) behavior will be used so nothing changes for you. If you want to use the new behaviour, set `legacy=False`. This should only be set if you understand what it means, and thoroughly read the reason why this was added as explained in https://github.com/huggingface/transformers/pull/24565\n"
     ]
    },
    {
     "data": {
      "application/vnd.jupyter.widget-view+json": {
       "model_id": "608f6011768e4a64a374b71b44b4c4df",
       "version_major": 2,
       "version_minor": 0
      },
      "text/plain": [
       "pytorch_model.bin:   0%|          | 0.00/1.20G [00:00<?, ?B/s]"
      ]
     },
     "metadata": {},
     "output_type": "display_data"
    },
    {
     "data": {
      "application/vnd.jupyter.widget-view+json": {
       "model_id": "8971369dfeb54ce0b21f4344e2dc723b",
       "version_major": 2,
       "version_minor": 0
      },
      "text/plain": [
       "generation_config.json:   0%|          | 0.00/147 [00:00<?, ?B/s]"
      ]
     },
     "metadata": {},
     "output_type": "display_data"
    }
   ],
   "source": [
    "import tensorflow as tf\n",
    "from transformers import AutoTokenizer, AutoModelForSeq2SeqLM\n",
    "\n",
    "base_model = \"google/mt5-small\"\n",
    "tokenizer = AutoTokenizer.from_pretrained(base_model)\n",
    "model = AutoModelForSeq2SeqLM.from_pretrained(base_model)"
   ]
  },
  {
   "cell_type": "markdown",
   "metadata": {},
   "source": [
    "## Split Dataset"
   ]
  },
  {
   "cell_type": "code",
   "execution_count": 12,
   "metadata": {
    "execution": {
     "iopub.execute_input": "2025-04-05T16:05:26.700718Z",
     "iopub.status.busy": "2025-04-05T16:05:26.700427Z",
     "iopub.status.idle": "2025-04-05T16:05:31.317203Z",
     "shell.execute_reply": "2025-04-05T16:05:31.316463Z",
     "shell.execute_reply.started": "2025-04-05T16:05:26.700684Z"
    },
    "id": "w3bXK6YVZcA1",
    "outputId": "d5f7c8e7-109a-4741-bb49-264e0ac10ca9",
    "trusted": true
   },
   "outputs": [
    {
     "data": {
      "application/vnd.jupyter.widget-view+json": {
       "model_id": "fa6989bbc2694ad1aa12e330c2c3e7a2",
       "version_major": 2,
       "version_minor": 0
      },
      "text/plain": [
       "Map:   0%|          | 0/7339 [00:00<?, ? examples/s]"
      ]
     },
     "metadata": {},
     "output_type": "display_data"
    }
   ],
   "source": [
    "from datasets import Dataset\n",
    "\n",
    "# Function to preprocess the data\n",
    "def preprocess_data(examples):\n",
    "    inputs = [f\"question: {q}\" for q in examples['question']]\n",
    "    targets = [f\"{a}\" for a in examples['answer']]  # Targets are just the answers\n",
    "\n",
    "    model_inputs = tokenizer(inputs, max_length=192, truncation=True, padding='max_length')\n",
    "    # Setup the tokenizer for targets\n",
    "    with tokenizer.as_target_tokenizer():\n",
    "        labels = tokenizer(targets, max_length=768, truncation=True, padding='max_length')\n",
    "\n",
    "    model_inputs[\"labels\"] = labels[\"input_ids\"]  # Labels are the decoder_input_ids\n",
    "    return model_inputs\n",
    "\n",
    "# Convert DataFrame to Dataset\n",
    "dataset = Dataset.from_pandas(my_df)\n",
    "\n",
    "# Preprocess the dataset\n",
    "tokenized_dataset = dataset.map(preprocess_data, batched=True)"
   ]
  },
  {
   "cell_type": "code",
   "execution_count": 13,
   "metadata": {
    "execution": {
     "iopub.execute_input": "2025-04-05T16:05:31.319178Z",
     "iopub.status.busy": "2025-04-05T16:05:31.318768Z",
     "iopub.status.idle": "2025-04-05T16:05:31.340188Z",
     "shell.execute_reply": "2025-04-05T16:05:31.339182Z",
     "shell.execute_reply.started": "2025-04-05T16:05:31.319118Z"
    },
    "id": "55H6CrHHcaO_",
    "trusted": true
   },
   "outputs": [],
   "source": [
    "# Split the dataset into training and validation sets\n",
    "train_dataset, val_dataset = tokenized_dataset.train_test_split(test_size=0.1, seed=42).values()"
   ]
  },
  {
   "cell_type": "markdown",
   "metadata": {},
   "source": [
    "# Modeling"
   ]
  },
  {
   "cell_type": "markdown",
   "metadata": {},
   "source": [
    "## Config"
   ]
  },
  {
   "cell_type": "code",
   "execution_count": 14,
   "metadata": {
    "execution": {
     "iopub.execute_input": "2025-04-05T16:05:31.341675Z",
     "iopub.status.busy": "2025-04-05T16:05:31.341344Z",
     "iopub.status.idle": "2025-04-05T16:05:31.359936Z",
     "shell.execute_reply": "2025-04-05T16:05:31.358412Z",
     "shell.execute_reply.started": "2025-04-05T16:05:31.341631Z"
    },
    "id": "Dh0q68yrbRYT",
    "trusted": true
   },
   "outputs": [],
   "source": [
    "import os\n",
    "os.environ[\"WANDB_DISABLED\"] = \"true\""
   ]
  },
  {
   "cell_type": "code",
   "execution_count": 15,
   "metadata": {
    "execution": {
     "iopub.execute_input": "2025-04-05T16:05:31.361849Z",
     "iopub.status.busy": "2025-04-05T16:05:31.361451Z",
     "iopub.status.idle": "2025-04-05T16:05:31.626121Z",
     "shell.execute_reply": "2025-04-05T16:05:31.624950Z",
     "shell.execute_reply.started": "2025-04-05T16:05:31.361785Z"
    },
    "id": "7GdUQ18Ud_hc",
    "trusted": true
   },
   "outputs": [],
   "source": [
    "from transformers import TrainerCallback\n",
    "from torch.utils.tensorboard import SummaryWriter\n",
    "\n",
    "class EarlyStoppingCallback(TrainerCallback):\n",
    "    def __init__(self, patience=5):\n",
    "        self.patience = patience\n",
    "        self.best_metric = None\n",
    "        self.counter = 0\n",
    "\n",
    "    def on_evaluate(self, args, state, control, metrics, **kwargs):\n",
    "        if self.best_metric is None or metrics['eval_loss'] < self.best_metric:\n",
    "            self.best_metric = metrics['eval_loss']\n",
    "            self.counter = 0\n",
    "        else:\n",
    "            self.counter += 1\n",
    "            if self.counter >= self.patience:\n",
    "                control.should_training_stop = True\n"
   ]
  },
  {
   "cell_type": "code",
   "execution_count": null,
   "metadata": {
    "trusted": true
   },
   "outputs": [],
   "source": [
    "# Save model  and tokenizer to \"vi-medical-transformer-fintune\"\n",
    "os.makedirs(\"models\", exist_ok=True)\n",
    "out_model_name = \"vi-medical-t5-finetune-qa\"\n",
    "out_model_path = f\"models/{out_model_name}\""
   ]
  },
  {
   "cell_type": "code",
   "execution_count": 27,
   "metadata": {
    "execution": {
     "iopub.execute_input": "2025-04-05T17:29:12.087285Z",
     "iopub.status.busy": "2025-04-05T17:29:12.086983Z",
     "iopub.status.idle": "2025-04-05T17:29:12.128730Z",
     "shell.execute_reply": "2025-04-05T17:29:12.127895Z",
     "shell.execute_reply.started": "2025-04-05T17:29:12.087263Z"
    },
    "id": "MvrLuxXssmCZ",
    "outputId": "61cb24fa-b232-4afd-b752-2386a3717628",
    "trusted": true
   },
   "outputs": [
    {
     "name": "stderr",
     "output_type": "stream",
     "text": [
      "Using the `WANDB_DISABLED` environment variable is deprecated and will be removed in v5. Use the --report_to flag to control the integrations used for logging result (for instance --report_to none).\n"
     ]
    }
   ],
   "source": [
    "from transformers import TrainingArguments, Trainer\n",
    "\n",
    "training_args = TrainingArguments(\n",
    "    output_dir=out_model_path,\n",
    "    evaluation_strategy='epoch',\n",
    "    learning_rate=1e-4,\n",
    "    per_device_train_batch_size=2,\n",
    "    per_device_eval_batch_size=2,\n",
    "    num_train_epochs=26,\n",
    "    weight_decay=0.01,\n",
    "    save_total_limit=1,\n",
    "    load_best_model_at_end=True,  # Load the best model at the end of training\n",
    "    metric_for_best_model='eval_loss',  # Use evaluation loss as the metric\n",
    "    greater_is_better=False,  # Lower evaluation loss is better\n",
    "    save_strategy='epoch'  # Ensure save strategy matches evaluation strategy\n",
    ")\n",
    "\n",
    "early_stopping_callback = EarlyStoppingCallback(patience=10)\n",
    "\n",
    "trainer = Trainer(\n",
    "    model=model,\n",
    "    args=training_args,\n",
    "    train_dataset=train_dataset,\n",
    "    eval_dataset=val_dataset,\n",
    "    callbacks=[early_stopping_callback]\n",
    ")"
   ]
  },
  {
   "cell_type": "markdown",
   "metadata": {},
   "source": [
    "## Training"
   ]
  },
  {
   "cell_type": "code",
   "execution_count": 28,
   "metadata": {
    "execution": {
     "iopub.execute_input": "2025-04-05T17:29:14.852024Z",
     "iopub.status.busy": "2025-04-05T17:29:14.851599Z",
     "iopub.status.idle": "2025-04-06T01:44:27.669176Z",
     "shell.execute_reply": "2025-04-06T01:44:27.668455Z",
     "shell.execute_reply.started": "2025-04-05T17:29:14.851986Z"
    },
    "id": "7hm4r5GUZeaT",
    "outputId": "6d638243-f051-4065-d04b-88bf55f95dd0",
    "trusted": true
   },
   "outputs": [
    {
     "data": {
      "text/html": [
       "\n",
       "    <div>\n",
       "      \n",
       "      <progress value='85878' max='85878' style='width:300px; height:20px; vertical-align: middle;'></progress>\n",
       "      [85878/85878 8:15:11, Epoch 26/26]\n",
       "    </div>\n",
       "    <table border=\"1\" class=\"dataframe\">\n",
       "  <thead>\n",
       " <tr style=\"text-align: left;\">\n",
       "      <th>Epoch</th>\n",
       "      <th>Training Loss</th>\n",
       "      <th>Validation Loss</th>\n",
       "    </tr>\n",
       "  </thead>\n",
       "  <tbody>\n",
       "    <tr>\n",
       "      <td>1</td>\n",
       "      <td>0.473200</td>\n",
       "      <td>0.395538</td>\n",
       "    </tr>\n",
       "    <tr>\n",
       "      <td>2</td>\n",
       "      <td>0.406000</td>\n",
       "      <td>0.382062</td>\n",
       "    </tr>\n",
       "    <tr>\n",
       "      <td>3</td>\n",
       "      <td>0.398900</td>\n",
       "      <td>0.377744</td>\n",
       "    </tr>\n",
       "    <tr>\n",
       "      <td>4</td>\n",
       "      <td>0.375000</td>\n",
       "      <td>0.367524</td>\n",
       "    </tr>\n",
       "    <tr>\n",
       "      <td>5</td>\n",
       "      <td>0.405700</td>\n",
       "      <td>0.360998</td>\n",
       "    </tr>\n",
       "    <tr>\n",
       "      <td>6</td>\n",
       "      <td>0.389800</td>\n",
       "      <td>0.355099</td>\n",
       "    </tr>\n",
       "    <tr>\n",
       "      <td>7</td>\n",
       "      <td>0.393000</td>\n",
       "      <td>0.349508</td>\n",
       "    </tr>\n",
       "    <tr>\n",
       "      <td>8</td>\n",
       "      <td>0.401700</td>\n",
       "      <td>0.345235</td>\n",
       "    </tr>\n",
       "    <tr>\n",
       "      <td>9</td>\n",
       "      <td>0.360900</td>\n",
       "      <td>0.343793</td>\n",
       "    </tr>\n",
       "    <tr>\n",
       "      <td>10</td>\n",
       "      <td>0.343600</td>\n",
       "      <td>0.338723</td>\n",
       "    </tr>\n",
       "    <tr>\n",
       "      <td>11</td>\n",
       "      <td>0.363700</td>\n",
       "      <td>0.336523</td>\n",
       "    </tr>\n",
       "    <tr>\n",
       "      <td>12</td>\n",
       "      <td>0.346400</td>\n",
       "      <td>0.333973</td>\n",
       "    </tr>\n",
       "    <tr>\n",
       "      <td>13</td>\n",
       "      <td>0.327300</td>\n",
       "      <td>0.332415</td>\n",
       "    </tr>\n",
       "    <tr>\n",
       "      <td>14</td>\n",
       "      <td>0.340600</td>\n",
       "      <td>0.331806</td>\n",
       "    </tr>\n",
       "    <tr>\n",
       "      <td>15</td>\n",
       "      <td>0.344900</td>\n",
       "      <td>0.330227</td>\n",
       "    </tr>\n",
       "    <tr>\n",
       "      <td>16</td>\n",
       "      <td>0.335900</td>\n",
       "      <td>0.328180</td>\n",
       "    </tr>\n",
       "    <tr>\n",
       "      <td>17</td>\n",
       "      <td>0.332100</td>\n",
       "      <td>0.326864</td>\n",
       "    </tr>\n",
       "    <tr>\n",
       "      <td>18</td>\n",
       "      <td>0.314700</td>\n",
       "      <td>0.325996</td>\n",
       "    </tr>\n",
       "    <tr>\n",
       "      <td>19</td>\n",
       "      <td>0.325700</td>\n",
       "      <td>0.326483</td>\n",
       "    </tr>\n",
       "    <tr>\n",
       "      <td>20</td>\n",
       "      <td>0.324400</td>\n",
       "      <td>0.325702</td>\n",
       "    </tr>\n",
       "    <tr>\n",
       "      <td>21</td>\n",
       "      <td>0.302400</td>\n",
       "      <td>0.323864</td>\n",
       "    </tr>\n",
       "    <tr>\n",
       "      <td>22</td>\n",
       "      <td>0.300700</td>\n",
       "      <td>0.323292</td>\n",
       "    </tr>\n",
       "    <tr>\n",
       "      <td>23</td>\n",
       "      <td>0.307700</td>\n",
       "      <td>0.322439</td>\n",
       "    </tr>\n",
       "    <tr>\n",
       "      <td>24</td>\n",
       "      <td>0.294700</td>\n",
       "      <td>0.322978</td>\n",
       "    </tr>\n",
       "    <tr>\n",
       "      <td>25</td>\n",
       "      <td>0.299600</td>\n",
       "      <td>0.322619</td>\n",
       "    </tr>\n",
       "    <tr>\n",
       "      <td>26</td>\n",
       "      <td>0.306100</td>\n",
       "      <td>0.322764</td>\n",
       "    </tr>\n",
       "  </tbody>\n",
       "</table><p>"
      ],
      "text/plain": [
       "<IPython.core.display.HTML object>"
      ]
     },
     "metadata": {},
     "output_type": "display_data"
    },
    {
     "name": "stderr",
     "output_type": "stream",
     "text": [
      "There were missing keys in the checkpoint model loaded: ['encoder.embed_tokens.weight', 'decoder.embed_tokens.weight'].\n"
     ]
    },
    {
     "data": {
      "text/plain": [
       "TrainOutput(global_step=85878, training_loss=0.3532296384634921, metrics={'train_runtime': 29708.0106, 'train_samples_per_second': 5.781, 'train_steps_per_second': 2.891, 'total_flos': 3.40508191555584e+16, 'train_loss': 0.3532296384634921, 'epoch': 26.0})"
      ]
     },
     "execution_count": 28,
     "metadata": {},
     "output_type": "execute_result"
    }
   ],
   "source": [
    "trainer.train()"
   ]
  },
  {
   "cell_type": "markdown",
   "metadata": {},
   "source": [
    "## Model Evaluation"
   ]
  },
  {
   "cell_type": "code",
   "execution_count": 29,
   "metadata": {
    "execution": {
     "iopub.execute_input": "2025-04-06T01:47:59.247039Z",
     "iopub.status.busy": "2025-04-06T01:47:59.246699Z",
     "iopub.status.idle": "2025-04-06T01:48:34.369746Z",
     "shell.execute_reply": "2025-04-06T01:48:34.368888Z",
     "shell.execute_reply.started": "2025-04-06T01:47:59.247015Z"
    },
    "id": "wK3bwK-tZgB0",
    "outputId": "c4840453-ec94-40b6-8171-d18caabe75f8",
    "trusted": true
   },
   "outputs": [
    {
     "data": {
      "text/html": [
       "\n",
       "    <div>\n",
       "      \n",
       "      <progress value='367' max='367' style='width:300px; height:20px; vertical-align: middle;'></progress>\n",
       "      [367/367 00:35]\n",
       "    </div>\n",
       "    "
      ],
      "text/plain": [
       "<IPython.core.display.HTML object>"
      ]
     },
     "metadata": {},
     "output_type": "display_data"
    },
    {
     "name": "stdout",
     "output_type": "stream",
     "text": [
      "Evaluation results: {'eval_loss': 0.3224388360977173, 'eval_runtime': 35.113, 'eval_samples_per_second': 20.904, 'eval_steps_per_second': 10.452, 'epoch': 26.0}\n"
     ]
    }
   ],
   "source": [
    "# Evaluate the model\n",
    "eval_results = trainer.evaluate()\n",
    "print(f\"Evaluation results: {eval_results}\")"
   ]
  },
  {
   "cell_type": "markdown",
   "metadata": {},
   "source": [
    "## Save Model"
   ]
  },
  {
   "cell_type": "code",
   "execution_count": 30,
   "metadata": {
    "execution": {
     "iopub.execute_input": "2025-04-06T01:48:43.265543Z",
     "iopub.status.busy": "2025-04-06T01:48:43.265261Z",
     "iopub.status.idle": "2025-04-06T01:48:47.061790Z",
     "shell.execute_reply": "2025-04-06T01:48:47.060801Z",
     "shell.execute_reply.started": "2025-04-06T01:48:43.265522Z"
    },
    "id": "7BKAn1TykqfE",
    "outputId": "83759824-0d2f-42ba-8b9d-d7867f414147",
    "trusted": true
   },
   "outputs": [
    {
     "data": {
      "text/plain": [
       "('models/vi-medical-t5-finetune/tokenizer_config.json',\n",
       " 'models/vi-medical-t5-finetune/special_tokens_map.json',\n",
       " 'models/vi-medical-t5-finetune/spiece.model',\n",
       " 'models/vi-medical-t5-finetune/added_tokens.json',\n",
       " 'models/vi-medical-t5-finetune/tokenizer.json')"
      ]
     },
     "execution_count": 30,
     "metadata": {},
     "output_type": "execute_result"
    }
   ],
   "source": [
    "model.save_pretrained(out_model_path)\n",
    "tokenizer.save_pretrained(out_model_path)"
   ]
  },
  {
   "cell_type": "markdown",
   "metadata": {},
   "source": [
    "# Inference"
   ]
  },
  {
   "cell_type": "code",
   "execution_count": 31,
   "metadata": {
    "execution": {
     "iopub.execute_input": "2025-04-06T01:48:47.063500Z",
     "iopub.status.busy": "2025-04-06T01:48:47.063177Z",
     "iopub.status.idle": "2025-04-06T01:48:52.764627Z",
     "shell.execute_reply": "2025-04-06T01:48:52.763708Z",
     "shell.execute_reply.started": "2025-04-06T01:48:47.063463Z"
    },
    "id": "-t0b9wHTjdPt",
    "trusted": true
   },
   "outputs": [],
   "source": [
    "import re\n",
    "import torch\n",
    "# from transformers import T5Tokenizer, T5ForConditionalGeneration\n",
    "# T5Tokenizer, T5ForConditionalGeneration\n",
    "def load_model_and_tokenizer(output_dir):\n",
    "    # Load the trained tokenizer\n",
    "    tokenizer = AutoTokenizer.from_pretrained(output_dir)\n",
    "\n",
    "    # Load the trained model\n",
    "    model = AutoModelForSeq2SeqLM.from_pretrained(output_dir)\n",
    "\n",
    "    # Move the model to the GPU if available\n",
    "    device = torch.device(\"cuda\" if torch.cuda.is_available() else \"cpu\")\n",
    "    model.to(device)\n",
    "\n",
    "    return tokenizer, model, device\n",
    "\n",
    "def generate_text(tokenizer, model, device, prompt, max_length=100,\n",
    "                  num_return_sequences=1, top_p=0.95, temperature=0.7):\n",
    "    # Tokenize the input prompt\n",
    "    input_ids = tokenizer.encode(prompt, return_tensors='pt').to(device)\n",
    "\n",
    "    # Generate text\n",
    "    output = model.generate(\n",
    "        input_ids,\n",
    "        max_length=max_length,\n",
    "        num_return_sequences=num_return_sequences,\n",
    "        no_repeat_ngram_size=2,\n",
    "        top_k=50,\n",
    "        top_p=top_p,\n",
    "        temperature=temperature,\n",
    "        do_sample=True\n",
    "    )\n",
    "\n",
    "    # Convert the generated text back to a string\n",
    "    generated_text = [tokenizer.decode(ids, skip_special_tokens=True) for ids in output]\n",
    "\n",
    "    return generated_text\n",
    "\n",
    "# Load the trained model and tokenizer\n",
    "output_dir = \"models/vi-medical-t5-finetune-qa\"\n",
    "tokenizer, model, device = load_model_and_tokenizer(output_dir)"
   ]
  },
  {
   "cell_type": "code",
   "execution_count": 32,
   "metadata": {
    "execution": {
     "iopub.execute_input": "2025-04-06T01:48:52.766012Z",
     "iopub.status.busy": "2025-04-06T01:48:52.765750Z",
     "iopub.status.idle": "2025-04-06T01:48:54.229395Z",
     "shell.execute_reply": "2025-04-06T01:48:54.228535Z",
     "shell.execute_reply.started": "2025-04-06T01:48:52.765978Z"
    },
    "id": "D5D8qALvkcac",
    "outputId": "bb24e030-0379-471a-9a50-28f4441edd1e",
    "trusted": true
   },
   "outputs": [
    {
     "name": "stdout",
     "output_type": "stream",
     "text": [
      "Generated Text:\n",
      "\n",
      "Chưa có chắc chắn nào cho thấy Covid-19 được phát hiện từ người bị muỗi đốt. Tuy nhiên, nếu bạn bệnh muổi ốm và muốn đổt thì sẽ không xảy ra các triệu chứng COVID-19 gây covid-19\n"
     ]
    }
   ],
   "source": [
    "# Define the prompt for text generation\n",
    "prompt = \"bị muỗi đốt có mắc covid-19 không?\"\n",
    "# Generate text\n",
    "generated_text = generate_text(tokenizer, model, device, prompt,\n",
    "                               max_length=768,\n",
    "                               num_return_sequences=1, top_p=0.95, temperature=0.7)\n",
    "\n",
    "# Print the generated text\n",
    "print(\"Generated Text:\\n\")\n",
    "result = generated_text[0].replace(\"_\", \" \").replace(\" ,\", \",\").replace(\" .\", \".\").replace(\" -\", \"\\n-\")\n",
    "print(result)"
   ]
  },
  {
   "cell_type": "code",
   "execution_count": 33,
   "metadata": {
    "execution": {
     "iopub.execute_input": "2025-04-06T01:50:45.086731Z",
     "iopub.status.busy": "2025-04-06T01:50:45.086421Z",
     "iopub.status.idle": "2025-04-06T01:50:51.777638Z",
     "shell.execute_reply": "2025-04-06T01:50:51.776647Z",
     "shell.execute_reply.started": "2025-04-06T01:50:45.086708Z"
    },
    "trusted": true
   },
   "outputs": [
    {
     "name": "stdout",
     "output_type": "stream",
     "text": [
      "Generated Text:\n",
      "\n",
      "Để chắc chắn, hiện nay chưa có vấn đề nào cho thấy covid-19 thể gây bệnh nặng. Tuy nhiên trong các nghiên cứu hơn từ một số trường hợp xảy ra là sự lây lan của COVID-19 ở mức ộ là chỉ được đánh giá lần đầu tiên như sau : Đau nhức và ớn lạnh ; đau bụng dữ dội\n",
      "- rối loạn ý nghĩa / tụt huyết áp ≥ 60 % Người mắc bất kỳ tác dụng khác nhau vì cái mới gần đây đã ổn lên ) Trong ít trọng mọi lúc bên ngoài nên vẫn có thai ? Các loại coronavirus đều có dạng cảm cúm Những người Trung Quốc năm 2003   2019 ngày tháng 11/2020 nói chung chẳng may nhiễm COVID--19 khác ( WHO ] tên vaccine Sputnik V công bố cũng không có cơ quan yếu mắc âm gồm cách uống chín chung chịu cung ứng thông tin ăn món ức đề xuất hoang mang i khuẩn hoặc áo rượu mũi hoạt hại cấp phát nguồn virus kém Xem giám sát tòa cộng Đồng Nó ảnh ưởng đến hiệu quả chính mình áp tâm để tìm nguyên tác phòng vệ cụ theo \n"
     ]
    }
   ],
   "source": [
    "# Define the prompt for text generation\n",
    "prompt = \"covid-19 là gì?\"\n",
    "# Generate text\n",
    "generated_text = generate_text(tokenizer, model, device, prompt,\n",
    "                               max_length=768,\n",
    "                               num_return_sequences=1, top_p=0.95, temperature=0.7)\n",
    "\n",
    "# Print the generated text\n",
    "print(\"Generated Text:\\n\")\n",
    "result = generated_text[0].replace(\"_\", \" \").replace(\" ,\", \",\").replace(\" .\", \".\").replace(\" -\", \"\\n-\")\n",
    "print(result)"
   ]
  },
  {
   "cell_type": "code",
   "execution_count": 34,
   "metadata": {
    "execution": {
     "iopub.execute_input": "2025-04-06T01:53:36.550653Z",
     "iopub.status.busy": "2025-04-06T01:53:36.550324Z",
     "iopub.status.idle": "2025-04-06T01:53:43.810425Z",
     "shell.execute_reply": "2025-04-06T01:53:43.809586Z",
     "shell.execute_reply.started": "2025-04-06T01:53:36.550630Z"
    },
    "trusted": true
   },
   "outputs": [
    {
     "name": "stdout",
     "output_type": "stream",
     "text": [
      "Generated Text:\n",
      "\n",
      "Người có nguy cơ mắc COVID-19 cao nhất có thể mới có triệu cuộc nhiễm COVID 19 từ các trung tâm y tế. Những người có được một số trẻ em có mức độ ít gặp phải những trên địa bàn, thành phố đã có bệnh lý rất hiếm như sốc phản vệ và lớn trong mọi người vì liệu về hệ miễn dịch ở bất kỳ tác nhân nào ? Các trường hợp bị nhiêm trọng bao gồm cả Trung Quốc ;\n",
      "- Trong giai pháp xét nghiệm SARS-CoV-2 : Đối xử ứng dụng PPE / PCR nhanh chóng lên đến 89 % người trở nên ≥ 12 tuổi ≤ 65 tuần ) Tuy nuôi kém hơn nhau hãy thực hành thăm dò kết quả của cơ quan kinh doanh vaccine Covid-19 ngày nay công tác phòng nhiễu năm 2007 áp ứu 5 tháng sau khi ăn uống uắt khoa mẹ Hà Nội Tiến Định Giám sát Sở Y Tế Thế giới ( WHO ] Công dân Mỹ ( Bộ Y Tế Bản Thành Phố ” Ứng Viện Vệ Sinh Hồi Sức Ăn Hòa Huyết Thanh Lãnh TAND TP.HCM Ưu Chỉ Mục Quân Anh Âu Đồng Giới CDC Ông Tạo Tổ Chức Yên Bục Advisory Group = AKI ARV ' Nicholas Louis !\n"
     ]
    }
   ],
   "source": [
    "# Define the prompt for text generation\n",
    "prompt = \"ai có nguy cơ mắc covid-19 nhiều nhất?\"\n",
    "# Generate text\n",
    "generated_text = generate_text(tokenizer, model, device, prompt,\n",
    "                               max_length=768,\n",
    "                               num_return_sequences=1, top_p=0.95, temperature=0.7)\n",
    "\n",
    "# Print the generated text\n",
    "print(\"Generated Text:\\n\")\n",
    "result = generated_text[0].replace(\"_\", \" \").replace(\" ,\", \",\").replace(\" .\", \".\").replace(\" -\", \"\\n-\")\n",
    "print(result)"
   ]
  }
 ],
 "metadata": {
  "accelerator": "GPU",
  "colab": {
   "gpuType": "T4",
   "provenance": []
  },
  "kaggle": {
   "accelerator": "gpu",
   "dataSources": [],
   "dockerImageVersionId": 30919,
   "isGpuEnabled": true,
   "isInternetEnabled": true,
   "language": "python",
   "sourceType": "notebook"
  },
  "kernelspec": {
   "display_name": "Python 3",
   "language": "python",
   "name": "python3"
  },
  "language_info": {
   "codemirror_mode": {
    "name": "ipython",
    "version": 3
   },
   "file_extension": ".py",
   "mimetype": "text/x-python",
   "name": "python",
   "nbconvert_exporter": "python",
   "pygments_lexer": "ipython3",
   "version": "3.10.12"
  },
  "widgets": {
   "application/vnd.jupyter.widget-state+json": {
    "0529d78b67fb4c88922a34b4209ac6ac": {
     "model_module": "@jupyter-widgets/controls",
     "model_module_version": "1.5.0",
     "model_name": "DescriptionStyleModel",
     "state": {
      "_model_module": "@jupyter-widgets/controls",
      "_model_module_version": "1.5.0",
      "_model_name": "DescriptionStyleModel",
      "_view_count": null,
      "_view_module": "@jupyter-widgets/base",
      "_view_module_version": "1.2.0",
      "_view_name": "StyleView",
      "description_width": ""
     }
    },
    "0791f71648254a45b66e78ee6ea7dab3": {
     "model_module": "@jupyter-widgets/controls",
     "model_module_version": "1.5.0",
     "model_name": "HTMLModel",
     "state": {
      "_dom_classes": [],
      "_model_module": "@jupyter-widgets/controls",
      "_model_module_version": "1.5.0",
      "_model_name": "HTMLModel",
      "_view_count": null,
      "_view_module": "@jupyter-widgets/controls",
      "_view_module_version": "1.5.0",
      "_view_name": "HTMLView",
      "description": "",
      "description_tooltip": null,
      "layout": "IPY_MODEL_d732157bffe345179231dd00d9ea375c",
      "placeholder": "​",
      "style": "IPY_MODEL_fbf10f4deeaf4ea1af7f4535f00cace0",
      "value": " 147/147 [00:00&lt;00:00, 11.7kB/s]"
     }
    },
    "09816db779b74906a2b34a29d96e3def": {
     "model_module": "@jupyter-widgets/controls",
     "model_module_version": "1.5.0",
     "model_name": "FloatProgressModel",
     "state": {
      "_dom_classes": [],
      "_model_module": "@jupyter-widgets/controls",
      "_model_module_version": "1.5.0",
      "_model_name": "FloatProgressModel",
      "_view_count": null,
      "_view_module": "@jupyter-widgets/controls",
      "_view_module_version": "1.5.0",
      "_view_name": "ProgressView",
      "bar_style": "success",
      "description": "",
      "description_tooltip": null,
      "layout": "IPY_MODEL_fe4a59ea5b044cdebed0afbdd80510cf",
      "max": 242043056,
      "min": 0,
      "orientation": "horizontal",
      "style": "IPY_MODEL_4d96fc5d7a8a4d25965e867f01b673cc",
      "value": 242043056
     }
    },
    "0ad735c4fe6a4153a61657dc22d04ca1": {
     "model_module": "@jupyter-widgets/controls",
     "model_module_version": "1.5.0",
     "model_name": "DescriptionStyleModel",
     "state": {
      "_model_module": "@jupyter-widgets/controls",
      "_model_module_version": "1.5.0",
      "_model_name": "DescriptionStyleModel",
      "_view_count": null,
      "_view_module": "@jupyter-widgets/base",
      "_view_module_version": "1.2.0",
      "_view_name": "StyleView",
      "description_width": ""
     }
    },
    "0ce4bc87aa764382a2d1cdc96aff9feb": {
     "model_module": "@jupyter-widgets/controls",
     "model_module_version": "1.5.0",
     "model_name": "DescriptionStyleModel",
     "state": {
      "_model_module": "@jupyter-widgets/controls",
      "_model_module_version": "1.5.0",
      "_model_name": "DescriptionStyleModel",
      "_view_count": null,
      "_view_module": "@jupyter-widgets/base",
      "_view_module_version": "1.2.0",
      "_view_name": "StyleView",
      "description_width": ""
     }
    },
    "11e04844838948a9a99dc81f745ee3ff": {
     "model_module": "@jupyter-widgets/controls",
     "model_module_version": "1.5.0",
     "model_name": "FloatProgressModel",
     "state": {
      "_dom_classes": [],
      "_model_module": "@jupyter-widgets/controls",
      "_model_module_version": "1.5.0",
      "_model_name": "FloatProgressModel",
      "_view_count": null,
      "_view_module": "@jupyter-widgets/controls",
      "_view_module_version": "1.5.0",
      "_view_name": "ProgressView",
      "bar_style": "success",
      "description": "",
      "description_tooltip": null,
      "layout": "IPY_MODEL_93786cb5bff54dc08b0d19bb97fe4e59",
      "max": 2324,
      "min": 0,
      "orientation": "horizontal",
      "style": "IPY_MODEL_44bafebf67c64002b5d4df6d4c1bea0f",
      "value": 2324
     }
    },
    "15ed7959ce394de387d9ce13e7ad4062": {
     "model_module": "@jupyter-widgets/controls",
     "model_module_version": "1.5.0",
     "model_name": "HTMLModel",
     "state": {
      "_dom_classes": [],
      "_model_module": "@jupyter-widgets/controls",
      "_model_module_version": "1.5.0",
      "_model_name": "HTMLModel",
      "_view_count": null,
      "_view_module": "@jupyter-widgets/controls",
      "_view_module_version": "1.5.0",
      "_view_name": "HTMLView",
      "description": "",
      "description_tooltip": null,
      "layout": "IPY_MODEL_1ac369a6e87c4e45913af06fd8a5e82a",
      "placeholder": "​",
      "style": "IPY_MODEL_0529d78b67fb4c88922a34b4209ac6ac",
      "value": "spiece.model: 100%"
     }
    },
    "199a40b46b8146868b5ae6a6bf63c991": {
     "model_module": "@jupyter-widgets/controls",
     "model_module_version": "1.5.0",
     "model_name": "HBoxModel",
     "state": {
      "_dom_classes": [],
      "_model_module": "@jupyter-widgets/controls",
      "_model_module_version": "1.5.0",
      "_model_name": "HBoxModel",
      "_view_count": null,
      "_view_module": "@jupyter-widgets/controls",
      "_view_module_version": "1.5.0",
      "_view_name": "HBoxView",
      "box_style": "",
      "children": [
       "IPY_MODEL_5d4d8d771df84ad493ea988a81757bb8",
       "IPY_MODEL_11e04844838948a9a99dc81f745ee3ff",
       "IPY_MODEL_91dd2c9695244d33bd7313a3b15d768e"
      ],
      "layout": "IPY_MODEL_2139a54d943d443abd5dc721d4cab890"
     }
    },
    "1ac369a6e87c4e45913af06fd8a5e82a": {
     "model_module": "@jupyter-widgets/base",
     "model_module_version": "1.2.0",
     "model_name": "LayoutModel",
     "state": {
      "_model_module": "@jupyter-widgets/base",
      "_model_module_version": "1.2.0",
      "_model_name": "LayoutModel",
      "_view_count": null,
      "_view_module": "@jupyter-widgets/base",
      "_view_module_version": "1.2.0",
      "_view_name": "LayoutView",
      "align_content": null,
      "align_items": null,
      "align_self": null,
      "border": null,
      "bottom": null,
      "display": null,
      "flex": null,
      "flex_flow": null,
      "grid_area": null,
      "grid_auto_columns": null,
      "grid_auto_flow": null,
      "grid_auto_rows": null,
      "grid_column": null,
      "grid_gap": null,
      "grid_row": null,
      "grid_template_areas": null,
      "grid_template_columns": null,
      "grid_template_rows": null,
      "height": null,
      "justify_content": null,
      "justify_items": null,
      "left": null,
      "margin": null,
      "max_height": null,
      "max_width": null,
      "min_height": null,
      "min_width": null,
      "object_fit": null,
      "object_position": null,
      "order": null,
      "overflow": null,
      "overflow_x": null,
      "overflow_y": null,
      "padding": null,
      "right": null,
      "top": null,
      "visibility": null,
      "width": null
     }
    },
    "2139a54d943d443abd5dc721d4cab890": {
     "model_module": "@jupyter-widgets/base",
     "model_module_version": "1.2.0",
     "model_name": "LayoutModel",
     "state": {
      "_model_module": "@jupyter-widgets/base",
      "_model_module_version": "1.2.0",
      "_model_name": "LayoutModel",
      "_view_count": null,
      "_view_module": "@jupyter-widgets/base",
      "_view_module_version": "1.2.0",
      "_view_name": "LayoutView",
      "align_content": null,
      "align_items": null,
      "align_self": null,
      "border": null,
      "bottom": null,
      "display": null,
      "flex": null,
      "flex_flow": null,
      "grid_area": null,
      "grid_auto_columns": null,
      "grid_auto_flow": null,
      "grid_auto_rows": null,
      "grid_column": null,
      "grid_gap": null,
      "grid_row": null,
      "grid_template_areas": null,
      "grid_template_columns": null,
      "grid_template_rows": null,
      "height": null,
      "justify_content": null,
      "justify_items": null,
      "left": null,
      "margin": null,
      "max_height": null,
      "max_width": null,
      "min_height": null,
      "min_width": null,
      "object_fit": null,
      "object_position": null,
      "order": null,
      "overflow": null,
      "overflow_x": null,
      "overflow_y": null,
      "padding": null,
      "right": null,
      "top": null,
      "visibility": null,
      "width": null
     }
    },
    "252670a2a639492b87a09d5c447146a4": {
     "model_module": "@jupyter-widgets/controls",
     "model_module_version": "1.5.0",
     "model_name": "HTMLModel",
     "state": {
      "_dom_classes": [],
      "_model_module": "@jupyter-widgets/controls",
      "_model_module_version": "1.5.0",
      "_model_name": "HTMLModel",
      "_view_count": null,
      "_view_module": "@jupyter-widgets/controls",
      "_view_module_version": "1.5.0",
      "_view_name": "HTMLView",
      "description": "",
      "description_tooltip": null,
      "layout": "IPY_MODEL_ba813303f7454b39a2c6df616ae2b723",
      "placeholder": "​",
      "style": "IPY_MODEL_a794b1f3622e4f13a6f9cce9e0bd6d50",
      "value": " 1.21k/1.21k [00:00&lt;00:00, 131kB/s]"
     }
    },
    "32b24e75430e44f48d13287830def29f": {
     "model_module": "@jupyter-widgets/controls",
     "model_module_version": "1.5.0",
     "model_name": "DescriptionStyleModel",
     "state": {
      "_model_module": "@jupyter-widgets/controls",
      "_model_module_version": "1.5.0",
      "_model_name": "DescriptionStyleModel",
      "_view_count": null,
      "_view_module": "@jupyter-widgets/base",
      "_view_module_version": "1.2.0",
      "_view_name": "StyleView",
      "description_width": ""
     }
    },
    "36a7f5594e52456c87fde3e814ec3ade": {
     "model_module": "@jupyter-widgets/base",
     "model_module_version": "1.2.0",
     "model_name": "LayoutModel",
     "state": {
      "_model_module": "@jupyter-widgets/base",
      "_model_module_version": "1.2.0",
      "_model_name": "LayoutModel",
      "_view_count": null,
      "_view_module": "@jupyter-widgets/base",
      "_view_module_version": "1.2.0",
      "_view_name": "LayoutView",
      "align_content": null,
      "align_items": null,
      "align_self": null,
      "border": null,
      "bottom": null,
      "display": null,
      "flex": null,
      "flex_flow": null,
      "grid_area": null,
      "grid_auto_columns": null,
      "grid_auto_flow": null,
      "grid_auto_rows": null,
      "grid_column": null,
      "grid_gap": null,
      "grid_row": null,
      "grid_template_areas": null,
      "grid_template_columns": null,
      "grid_template_rows": null,
      "height": null,
      "justify_content": null,
      "justify_items": null,
      "left": null,
      "margin": null,
      "max_height": null,
      "max_width": null,
      "min_height": null,
      "min_width": null,
      "object_fit": null,
      "object_position": null,
      "order": null,
      "overflow": null,
      "overflow_x": null,
      "overflow_y": null,
      "padding": null,
      "right": null,
      "top": null,
      "visibility": null,
      "width": null
     }
    },
    "3f3b3ddd59494035ba86f10fb6bd0e9b": {
     "model_module": "@jupyter-widgets/controls",
     "model_module_version": "1.5.0",
     "model_name": "HTMLModel",
     "state": {
      "_dom_classes": [],
      "_model_module": "@jupyter-widgets/controls",
      "_model_module_version": "1.5.0",
      "_model_name": "HTMLModel",
      "_view_count": null,
      "_view_module": "@jupyter-widgets/controls",
      "_view_module_version": "1.5.0",
      "_view_name": "HTMLView",
      "description": "",
      "description_tooltip": null,
      "layout": "IPY_MODEL_707c3f0688ae4a52bff98bfb3cef4b43",
      "placeholder": "​",
      "style": "IPY_MODEL_a50872642b7c4d069e20608d2a8b305a",
      "value": " 792k/792k [00:00&lt;00:00, 12.3MB/s]"
     }
    },
    "3fd8a334bf46432c9663763ad7349404": {
     "model_module": "@jupyter-widgets/base",
     "model_module_version": "1.2.0",
     "model_name": "LayoutModel",
     "state": {
      "_model_module": "@jupyter-widgets/base",
      "_model_module_version": "1.2.0",
      "_model_name": "LayoutModel",
      "_view_count": null,
      "_view_module": "@jupyter-widgets/base",
      "_view_module_version": "1.2.0",
      "_view_name": "LayoutView",
      "align_content": null,
      "align_items": null,
      "align_self": null,
      "border": null,
      "bottom": null,
      "display": null,
      "flex": null,
      "flex_flow": null,
      "grid_area": null,
      "grid_auto_columns": null,
      "grid_auto_flow": null,
      "grid_auto_rows": null,
      "grid_column": null,
      "grid_gap": null,
      "grid_row": null,
      "grid_template_areas": null,
      "grid_template_columns": null,
      "grid_template_rows": null,
      "height": null,
      "justify_content": null,
      "justify_items": null,
      "left": null,
      "margin": null,
      "max_height": null,
      "max_width": null,
      "min_height": null,
      "min_width": null,
      "object_fit": null,
      "object_position": null,
      "order": null,
      "overflow": null,
      "overflow_x": null,
      "overflow_y": null,
      "padding": null,
      "right": null,
      "top": null,
      "visibility": null,
      "width": null
     }
    },
    "416a760b9a8f4bb98bde9d57cc077b90": {
     "model_module": "@jupyter-widgets/controls",
     "model_module_version": "1.5.0",
     "model_name": "HTMLModel",
     "state": {
      "_dom_classes": [],
      "_model_module": "@jupyter-widgets/controls",
      "_model_module_version": "1.5.0",
      "_model_name": "HTMLModel",
      "_view_count": null,
      "_view_module": "@jupyter-widgets/controls",
      "_view_module_version": "1.5.0",
      "_view_name": "HTMLView",
      "description": "",
      "description_tooltip": null,
      "layout": "IPY_MODEL_caa402fd90b549ab94d1c4ec1ee20dd6",
      "placeholder": "​",
      "style": "IPY_MODEL_f188fa9f95364317ad5ca0d599cca165",
      "value": "config.json: 100%"
     }
    },
    "448256489b0d4840888779e0446a3eeb": {
     "model_module": "@jupyter-widgets/base",
     "model_module_version": "1.2.0",
     "model_name": "LayoutModel",
     "state": {
      "_model_module": "@jupyter-widgets/base",
      "_model_module_version": "1.2.0",
      "_model_name": "LayoutModel",
      "_view_count": null,
      "_view_module": "@jupyter-widgets/base",
      "_view_module_version": "1.2.0",
      "_view_name": "LayoutView",
      "align_content": null,
      "align_items": null,
      "align_self": null,
      "border": null,
      "bottom": null,
      "display": null,
      "flex": null,
      "flex_flow": null,
      "grid_area": null,
      "grid_auto_columns": null,
      "grid_auto_flow": null,
      "grid_auto_rows": null,
      "grid_column": null,
      "grid_gap": null,
      "grid_row": null,
      "grid_template_areas": null,
      "grid_template_columns": null,
      "grid_template_rows": null,
      "height": null,
      "justify_content": null,
      "justify_items": null,
      "left": null,
      "margin": null,
      "max_height": null,
      "max_width": null,
      "min_height": null,
      "min_width": null,
      "object_fit": null,
      "object_position": null,
      "order": null,
      "overflow": null,
      "overflow_x": null,
      "overflow_y": null,
      "padding": null,
      "right": null,
      "top": null,
      "visibility": null,
      "width": null
     }
    },
    "44bafebf67c64002b5d4df6d4c1bea0f": {
     "model_module": "@jupyter-widgets/controls",
     "model_module_version": "1.5.0",
     "model_name": "ProgressStyleModel",
     "state": {
      "_model_module": "@jupyter-widgets/controls",
      "_model_module_version": "1.5.0",
      "_model_name": "ProgressStyleModel",
      "_view_count": null,
      "_view_module": "@jupyter-widgets/base",
      "_view_module_version": "1.2.0",
      "_view_name": "StyleView",
      "bar_color": null,
      "description_width": ""
     }
    },
    "4d96fc5d7a8a4d25965e867f01b673cc": {
     "model_module": "@jupyter-widgets/controls",
     "model_module_version": "1.5.0",
     "model_name": "ProgressStyleModel",
     "state": {
      "_model_module": "@jupyter-widgets/controls",
      "_model_module_version": "1.5.0",
      "_model_name": "ProgressStyleModel",
      "_view_count": null,
      "_view_module": "@jupyter-widgets/base",
      "_view_module_version": "1.2.0",
      "_view_name": "StyleView",
      "bar_color": null,
      "description_width": ""
     }
    },
    "5514fde6749c4edb9d283588d5be83bc": {
     "model_module": "@jupyter-widgets/base",
     "model_module_version": "1.2.0",
     "model_name": "LayoutModel",
     "state": {
      "_model_module": "@jupyter-widgets/base",
      "_model_module_version": "1.2.0",
      "_model_name": "LayoutModel",
      "_view_count": null,
      "_view_module": "@jupyter-widgets/base",
      "_view_module_version": "1.2.0",
      "_view_name": "LayoutView",
      "align_content": null,
      "align_items": null,
      "align_self": null,
      "border": null,
      "bottom": null,
      "display": null,
      "flex": null,
      "flex_flow": null,
      "grid_area": null,
      "grid_auto_columns": null,
      "grid_auto_flow": null,
      "grid_auto_rows": null,
      "grid_column": null,
      "grid_gap": null,
      "grid_row": null,
      "grid_template_areas": null,
      "grid_template_columns": null,
      "grid_template_rows": null,
      "height": null,
      "justify_content": null,
      "justify_items": null,
      "left": null,
      "margin": null,
      "max_height": null,
      "max_width": null,
      "min_height": null,
      "min_width": null,
      "object_fit": null,
      "object_position": null,
      "order": null,
      "overflow": null,
      "overflow_x": null,
      "overflow_y": null,
      "padding": null,
      "right": null,
      "top": null,
      "visibility": null,
      "width": null
     }
    },
    "5a068e097c0444dfa9bd34788edfb47f": {
     "model_module": "@jupyter-widgets/controls",
     "model_module_version": "1.5.0",
     "model_name": "ProgressStyleModel",
     "state": {
      "_model_module": "@jupyter-widgets/controls",
      "_model_module_version": "1.5.0",
      "_model_name": "ProgressStyleModel",
      "_view_count": null,
      "_view_module": "@jupyter-widgets/base",
      "_view_module_version": "1.2.0",
      "_view_name": "StyleView",
      "bar_color": null,
      "description_width": ""
     }
    },
    "5be2dd25c6564f639b56b1d0f4e6540d": {
     "model_module": "@jupyter-widgets/base",
     "model_module_version": "1.2.0",
     "model_name": "LayoutModel",
     "state": {
      "_model_module": "@jupyter-widgets/base",
      "_model_module_version": "1.2.0",
      "_model_name": "LayoutModel",
      "_view_count": null,
      "_view_module": "@jupyter-widgets/base",
      "_view_module_version": "1.2.0",
      "_view_name": "LayoutView",
      "align_content": null,
      "align_items": null,
      "align_self": null,
      "border": null,
      "bottom": null,
      "display": null,
      "flex": null,
      "flex_flow": null,
      "grid_area": null,
      "grid_auto_columns": null,
      "grid_auto_flow": null,
      "grid_auto_rows": null,
      "grid_column": null,
      "grid_gap": null,
      "grid_row": null,
      "grid_template_areas": null,
      "grid_template_columns": null,
      "grid_template_rows": null,
      "height": null,
      "justify_content": null,
      "justify_items": null,
      "left": null,
      "margin": null,
      "max_height": null,
      "max_width": null,
      "min_height": null,
      "min_width": null,
      "object_fit": null,
      "object_position": null,
      "order": null,
      "overflow": null,
      "overflow_x": null,
      "overflow_y": null,
      "padding": null,
      "right": null,
      "top": null,
      "visibility": null,
      "width": null
     }
    },
    "5d4d8d771df84ad493ea988a81757bb8": {
     "model_module": "@jupyter-widgets/controls",
     "model_module_version": "1.5.0",
     "model_name": "HTMLModel",
     "state": {
      "_dom_classes": [],
      "_model_module": "@jupyter-widgets/controls",
      "_model_module_version": "1.5.0",
      "_model_name": "HTMLModel",
      "_view_count": null,
      "_view_module": "@jupyter-widgets/controls",
      "_view_module_version": "1.5.0",
      "_view_name": "HTMLView",
      "description": "",
      "description_tooltip": null,
      "layout": "IPY_MODEL_36a7f5594e52456c87fde3e814ec3ade",
      "placeholder": "​",
      "style": "IPY_MODEL_9c964c4fe34b4500a75e14568581ab15",
      "value": "tokenizer_config.json: 100%"
     }
    },
    "63b246809ffc4c13910ede07263d243b": {
     "model_module": "@jupyter-widgets/controls",
     "model_module_version": "1.5.0",
     "model_name": "HTMLModel",
     "state": {
      "_dom_classes": [],
      "_model_module": "@jupyter-widgets/controls",
      "_model_module_version": "1.5.0",
      "_model_name": "HTMLModel",
      "_view_count": null,
      "_view_module": "@jupyter-widgets/controls",
      "_view_module_version": "1.5.0",
      "_view_name": "HTMLView",
      "description": "",
      "description_tooltip": null,
      "layout": "IPY_MODEL_f41bb080b1904914a0f3cf73bab0830d",
      "placeholder": "​",
      "style": "IPY_MODEL_0ad735c4fe6a4153a61657dc22d04ca1",
      "value": "generation_config.json: 100%"
     }
    },
    "653ad1843f5e4f5d96d2b63a370444ea": {
     "model_module": "@jupyter-widgets/controls",
     "model_module_version": "1.5.0",
     "model_name": "ProgressStyleModel",
     "state": {
      "_model_module": "@jupyter-widgets/controls",
      "_model_module_version": "1.5.0",
      "_model_name": "ProgressStyleModel",
      "_view_count": null,
      "_view_module": "@jupyter-widgets/base",
      "_view_module_version": "1.2.0",
      "_view_name": "StyleView",
      "bar_color": null,
      "description_width": ""
     }
    },
    "6a7cabafc98c43db8ff6f9b5b8bee2b3": {
     "model_module": "@jupyter-widgets/controls",
     "model_module_version": "1.5.0",
     "model_name": "HBoxModel",
     "state": {
      "_dom_classes": [],
      "_model_module": "@jupyter-widgets/controls",
      "_model_module_version": "1.5.0",
      "_model_name": "HBoxModel",
      "_view_count": null,
      "_view_module": "@jupyter-widgets/controls",
      "_view_module_version": "1.5.0",
      "_view_name": "HBoxView",
      "box_style": "",
      "children": [
       "IPY_MODEL_15ed7959ce394de387d9ce13e7ad4062",
       "IPY_MODEL_d1807547c4f9459db2cbb076492bc033",
       "IPY_MODEL_3f3b3ddd59494035ba86f10fb6bd0e9b"
      ],
      "layout": "IPY_MODEL_aa30f7600c9648b2b17bd9028a921f1b"
     }
    },
    "7017270ebf994ec0bd3818d46ddfc7eb": {
     "model_module": "@jupyter-widgets/base",
     "model_module_version": "1.2.0",
     "model_name": "LayoutModel",
     "state": {
      "_model_module": "@jupyter-widgets/base",
      "_model_module_version": "1.2.0",
      "_model_name": "LayoutModel",
      "_view_count": null,
      "_view_module": "@jupyter-widgets/base",
      "_view_module_version": "1.2.0",
      "_view_name": "LayoutView",
      "align_content": null,
      "align_items": null,
      "align_self": null,
      "border": null,
      "bottom": null,
      "display": null,
      "flex": null,
      "flex_flow": null,
      "grid_area": null,
      "grid_auto_columns": null,
      "grid_auto_flow": null,
      "grid_auto_rows": null,
      "grid_column": null,
      "grid_gap": null,
      "grid_row": null,
      "grid_template_areas": null,
      "grid_template_columns": null,
      "grid_template_rows": null,
      "height": null,
      "justify_content": null,
      "justify_items": null,
      "left": null,
      "margin": null,
      "max_height": null,
      "max_width": null,
      "min_height": null,
      "min_width": null,
      "object_fit": null,
      "object_position": null,
      "order": null,
      "overflow": null,
      "overflow_x": null,
      "overflow_y": null,
      "padding": null,
      "right": null,
      "top": null,
      "visibility": null,
      "width": null
     }
    },
    "707c3f0688ae4a52bff98bfb3cef4b43": {
     "model_module": "@jupyter-widgets/base",
     "model_module_version": "1.2.0",
     "model_name": "LayoutModel",
     "state": {
      "_model_module": "@jupyter-widgets/base",
      "_model_module_version": "1.2.0",
      "_model_name": "LayoutModel",
      "_view_count": null,
      "_view_module": "@jupyter-widgets/base",
      "_view_module_version": "1.2.0",
      "_view_name": "LayoutView",
      "align_content": null,
      "align_items": null,
      "align_self": null,
      "border": null,
      "bottom": null,
      "display": null,
      "flex": null,
      "flex_flow": null,
      "grid_area": null,
      "grid_auto_columns": null,
      "grid_auto_flow": null,
      "grid_auto_rows": null,
      "grid_column": null,
      "grid_gap": null,
      "grid_row": null,
      "grid_template_areas": null,
      "grid_template_columns": null,
      "grid_template_rows": null,
      "height": null,
      "justify_content": null,
      "justify_items": null,
      "left": null,
      "margin": null,
      "max_height": null,
      "max_width": null,
      "min_height": null,
      "min_width": null,
      "object_fit": null,
      "object_position": null,
      "order": null,
      "overflow": null,
      "overflow_x": null,
      "overflow_y": null,
      "padding": null,
      "right": null,
      "top": null,
      "visibility": null,
      "width": null
     }
    },
    "7c88684e88884b0c9709f7cbf4a353f9": {
     "model_module": "@jupyter-widgets/controls",
     "model_module_version": "1.5.0",
     "model_name": "HTMLModel",
     "state": {
      "_dom_classes": [],
      "_model_module": "@jupyter-widgets/controls",
      "_model_module_version": "1.5.0",
      "_model_name": "HTMLModel",
      "_view_count": null,
      "_view_module": "@jupyter-widgets/controls",
      "_view_module_version": "1.5.0",
      "_view_name": "HTMLView",
      "description": "",
      "description_tooltip": null,
      "layout": "IPY_MODEL_c943e2bf2ceb40a8bd544d5e1adde0b6",
      "placeholder": "​",
      "style": "IPY_MODEL_b8e8e3d13ca142a2826737732cd65f84",
      "value": "Map: 100%"
     }
    },
    "7dbb5f1d73cd418890ececd0a7798f11": {
     "model_module": "@jupyter-widgets/base",
     "model_module_version": "1.2.0",
     "model_name": "LayoutModel",
     "state": {
      "_model_module": "@jupyter-widgets/base",
      "_model_module_version": "1.2.0",
      "_model_name": "LayoutModel",
      "_view_count": null,
      "_view_module": "@jupyter-widgets/base",
      "_view_module_version": "1.2.0",
      "_view_name": "LayoutView",
      "align_content": null,
      "align_items": null,
      "align_self": null,
      "border": null,
      "bottom": null,
      "display": null,
      "flex": null,
      "flex_flow": null,
      "grid_area": null,
      "grid_auto_columns": null,
      "grid_auto_flow": null,
      "grid_auto_rows": null,
      "grid_column": null,
      "grid_gap": null,
      "grid_row": null,
      "grid_template_areas": null,
      "grid_template_columns": null,
      "grid_template_rows": null,
      "height": null,
      "justify_content": null,
      "justify_items": null,
      "left": null,
      "margin": null,
      "max_height": null,
      "max_width": null,
      "min_height": null,
      "min_width": null,
      "object_fit": null,
      "object_position": null,
      "order": null,
      "overflow": null,
      "overflow_x": null,
      "overflow_y": null,
      "padding": null,
      "right": null,
      "top": null,
      "visibility": null,
      "width": null
     }
    },
    "8182da95933f4029935309878051ac50": {
     "model_module": "@jupyter-widgets/controls",
     "model_module_version": "1.5.0",
     "model_name": "HBoxModel",
     "state": {
      "_dom_classes": [],
      "_model_module": "@jupyter-widgets/controls",
      "_model_module_version": "1.5.0",
      "_model_name": "HBoxModel",
      "_view_count": null,
      "_view_module": "@jupyter-widgets/controls",
      "_view_module_version": "1.5.0",
      "_view_name": "HBoxView",
      "box_style": "",
      "children": [
       "IPY_MODEL_63b246809ffc4c13910ede07263d243b",
       "IPY_MODEL_a6433d840ea3409692328e5e9f809068",
       "IPY_MODEL_0791f71648254a45b66e78ee6ea7dab3"
      ],
      "layout": "IPY_MODEL_d5f1f79d0263452aa28ca15d2c5692e9"
     }
    },
    "84aec12b93e54b35a52fc8592cbc503b": {
     "model_module": "@jupyter-widgets/controls",
     "model_module_version": "1.5.0",
     "model_name": "FloatProgressModel",
     "state": {
      "_dom_classes": [],
      "_model_module": "@jupyter-widgets/controls",
      "_model_module_version": "1.5.0",
      "_model_name": "FloatProgressModel",
      "_view_count": null,
      "_view_module": "@jupyter-widgets/controls",
      "_view_module_version": "1.5.0",
      "_view_name": "ProgressView",
      "bar_style": "success",
      "description": "",
      "description_tooltip": null,
      "layout": "IPY_MODEL_7017270ebf994ec0bd3818d46ddfc7eb",
      "max": 1389353,
      "min": 0,
      "orientation": "horizontal",
      "style": "IPY_MODEL_653ad1843f5e4f5d96d2b63a370444ea",
      "value": 1389353
     }
    },
    "855c92a695d949778572a02ff0c4b19a": {
     "model_module": "@jupyter-widgets/base",
     "model_module_version": "1.2.0",
     "model_name": "LayoutModel",
     "state": {
      "_model_module": "@jupyter-widgets/base",
      "_model_module_version": "1.2.0",
      "_model_name": "LayoutModel",
      "_view_count": null,
      "_view_module": "@jupyter-widgets/base",
      "_view_module_version": "1.2.0",
      "_view_name": "LayoutView",
      "align_content": null,
      "align_items": null,
      "align_self": null,
      "border": null,
      "bottom": null,
      "display": null,
      "flex": null,
      "flex_flow": null,
      "grid_area": null,
      "grid_auto_columns": null,
      "grid_auto_flow": null,
      "grid_auto_rows": null,
      "grid_column": null,
      "grid_gap": null,
      "grid_row": null,
      "grid_template_areas": null,
      "grid_template_columns": null,
      "grid_template_rows": null,
      "height": null,
      "justify_content": null,
      "justify_items": null,
      "left": null,
      "margin": null,
      "max_height": null,
      "max_width": null,
      "min_height": null,
      "min_width": null,
      "object_fit": null,
      "object_position": null,
      "order": null,
      "overflow": null,
      "overflow_x": null,
      "overflow_y": null,
      "padding": null,
      "right": null,
      "top": null,
      "visibility": null,
      "width": null
     }
    },
    "85606114aaf74e38bb549c4723aec8d2": {
     "model_module": "@jupyter-widgets/controls",
     "model_module_version": "1.5.0",
     "model_name": "HTMLModel",
     "state": {
      "_dom_classes": [],
      "_model_module": "@jupyter-widgets/controls",
      "_model_module_version": "1.5.0",
      "_model_name": "HTMLModel",
      "_view_count": null,
      "_view_module": "@jupyter-widgets/controls",
      "_view_module_version": "1.5.0",
      "_view_name": "HTMLView",
      "description": "",
      "description_tooltip": null,
      "layout": "IPY_MODEL_855c92a695d949778572a02ff0c4b19a",
      "placeholder": "​",
      "style": "IPY_MODEL_90e55c77e9754d0bbfb8776c0b4252ba",
      "value": "tokenizer.json: 100%"
     }
    },
    "85ae7ffa8f4c45a28f0166829c9f6f44": {
     "model_module": "@jupyter-widgets/controls",
     "model_module_version": "1.5.0",
     "model_name": "HTMLModel",
     "state": {
      "_dom_classes": [],
      "_model_module": "@jupyter-widgets/controls",
      "_model_module_version": "1.5.0",
      "_model_name": "HTMLModel",
      "_view_count": null,
      "_view_module": "@jupyter-widgets/controls",
      "_view_module_version": "1.5.0",
      "_view_name": "HTMLView",
      "description": "",
      "description_tooltip": null,
      "layout": "IPY_MODEL_5514fde6749c4edb9d283588d5be83bc",
      "placeholder": "​",
      "style": "IPY_MODEL_0ce4bc87aa764382a2d1cdc96aff9feb",
      "value": " 242M/242M [00:01&lt;00:00, 232MB/s]"
     }
    },
    "897dac44c66841eeb341b840dc403c1d": {
     "model_module": "@jupyter-widgets/controls",
     "model_module_version": "1.5.0",
     "model_name": "ProgressStyleModel",
     "state": {
      "_model_module": "@jupyter-widgets/controls",
      "_model_module_version": "1.5.0",
      "_model_name": "ProgressStyleModel",
      "_view_count": null,
      "_view_module": "@jupyter-widgets/base",
      "_view_module_version": "1.2.0",
      "_view_name": "StyleView",
      "bar_color": null,
      "description_width": ""
     }
    },
    "8984eceb4a14480f851d75259e28ef43": {
     "model_module": "@jupyter-widgets/controls",
     "model_module_version": "1.5.0",
     "model_name": "HBoxModel",
     "state": {
      "_dom_classes": [],
      "_model_module": "@jupyter-widgets/controls",
      "_model_module_version": "1.5.0",
      "_model_name": "HBoxModel",
      "_view_count": null,
      "_view_module": "@jupyter-widgets/controls",
      "_view_module_version": "1.5.0",
      "_view_name": "HBoxView",
      "box_style": "",
      "children": [
       "IPY_MODEL_7c88684e88884b0c9709f7cbf4a353f9",
       "IPY_MODEL_b7671b42bfa141a9aae89329ebbead8b",
       "IPY_MODEL_96012b27db31485d86edb861404fca6a"
      ],
      "layout": "IPY_MODEL_7dbb5f1d73cd418890ececd0a7798f11"
     }
    },
    "8b840488f68f46e18d9c349b6e520e74": {
     "model_module": "@jupyter-widgets/controls",
     "model_module_version": "1.5.0",
     "model_name": "HBoxModel",
     "state": {
      "_dom_classes": [],
      "_model_module": "@jupyter-widgets/controls",
      "_model_module_version": "1.5.0",
      "_model_name": "HBoxModel",
      "_view_count": null,
      "_view_module": "@jupyter-widgets/controls",
      "_view_module_version": "1.5.0",
      "_view_name": "HBoxView",
      "box_style": "",
      "children": [
       "IPY_MODEL_416a760b9a8f4bb98bde9d57cc077b90",
       "IPY_MODEL_a3d9d9cefecb4b33ace100caef5e07ac",
       "IPY_MODEL_252670a2a639492b87a09d5c447146a4"
      ],
      "layout": "IPY_MODEL_e3e9f95712ac47fb9527c68bd56fb6e1"
     }
    },
    "90b1345e1f2648339348b363690c0ebe": {
     "model_module": "@jupyter-widgets/base",
     "model_module_version": "1.2.0",
     "model_name": "LayoutModel",
     "state": {
      "_model_module": "@jupyter-widgets/base",
      "_model_module_version": "1.2.0",
      "_model_name": "LayoutModel",
      "_view_count": null,
      "_view_module": "@jupyter-widgets/base",
      "_view_module_version": "1.2.0",
      "_view_name": "LayoutView",
      "align_content": null,
      "align_items": null,
      "align_self": null,
      "border": null,
      "bottom": null,
      "display": null,
      "flex": null,
      "flex_flow": null,
      "grid_area": null,
      "grid_auto_columns": null,
      "grid_auto_flow": null,
      "grid_auto_rows": null,
      "grid_column": null,
      "grid_gap": null,
      "grid_row": null,
      "grid_template_areas": null,
      "grid_template_columns": null,
      "grid_template_rows": null,
      "height": null,
      "justify_content": null,
      "justify_items": null,
      "left": null,
      "margin": null,
      "max_height": null,
      "max_width": null,
      "min_height": null,
      "min_width": null,
      "object_fit": null,
      "object_position": null,
      "order": null,
      "overflow": null,
      "overflow_x": null,
      "overflow_y": null,
      "padding": null,
      "right": null,
      "top": null,
      "visibility": null,
      "width": null
     }
    },
    "90e55c77e9754d0bbfb8776c0b4252ba": {
     "model_module": "@jupyter-widgets/controls",
     "model_module_version": "1.5.0",
     "model_name": "DescriptionStyleModel",
     "state": {
      "_model_module": "@jupyter-widgets/controls",
      "_model_module_version": "1.5.0",
      "_model_name": "DescriptionStyleModel",
      "_view_count": null,
      "_view_module": "@jupyter-widgets/base",
      "_view_module_version": "1.2.0",
      "_view_name": "StyleView",
      "description_width": ""
     }
    },
    "9165c2b1f0ba4d158b2a6d7f22737b76": {
     "model_module": "@jupyter-widgets/controls",
     "model_module_version": "1.5.0",
     "model_name": "ProgressStyleModel",
     "state": {
      "_model_module": "@jupyter-widgets/controls",
      "_model_module_version": "1.5.0",
      "_model_name": "ProgressStyleModel",
      "_view_count": null,
      "_view_module": "@jupyter-widgets/base",
      "_view_module_version": "1.2.0",
      "_view_name": "StyleView",
      "bar_color": null,
      "description_width": ""
     }
    },
    "91dd2c9695244d33bd7313a3b15d768e": {
     "model_module": "@jupyter-widgets/controls",
     "model_module_version": "1.5.0",
     "model_name": "HTMLModel",
     "state": {
      "_dom_classes": [],
      "_model_module": "@jupyter-widgets/controls",
      "_model_module_version": "1.5.0",
      "_model_name": "HTMLModel",
      "_view_count": null,
      "_view_module": "@jupyter-widgets/controls",
      "_view_module_version": "1.5.0",
      "_view_name": "HTMLView",
      "description": "",
      "description_tooltip": null,
      "layout": "IPY_MODEL_90b1345e1f2648339348b363690c0ebe",
      "placeholder": "​",
      "style": "IPY_MODEL_95bb8f5c5e114d578fff61ebca8ceeab",
      "value": " 2.32k/2.32k [00:00&lt;00:00, 222kB/s]"
     }
    },
    "93786cb5bff54dc08b0d19bb97fe4e59": {
     "model_module": "@jupyter-widgets/base",
     "model_module_version": "1.2.0",
     "model_name": "LayoutModel",
     "state": {
      "_model_module": "@jupyter-widgets/base",
      "_model_module_version": "1.2.0",
      "_model_name": "LayoutModel",
      "_view_count": null,
      "_view_module": "@jupyter-widgets/base",
      "_view_module_version": "1.2.0",
      "_view_name": "LayoutView",
      "align_content": null,
      "align_items": null,
      "align_self": null,
      "border": null,
      "bottom": null,
      "display": null,
      "flex": null,
      "flex_flow": null,
      "grid_area": null,
      "grid_auto_columns": null,
      "grid_auto_flow": null,
      "grid_auto_rows": null,
      "grid_column": null,
      "grid_gap": null,
      "grid_row": null,
      "grid_template_areas": null,
      "grid_template_columns": null,
      "grid_template_rows": null,
      "height": null,
      "justify_content": null,
      "justify_items": null,
      "left": null,
      "margin": null,
      "max_height": null,
      "max_width": null,
      "min_height": null,
      "min_width": null,
      "object_fit": null,
      "object_position": null,
      "order": null,
      "overflow": null,
      "overflow_x": null,
      "overflow_y": null,
      "padding": null,
      "right": null,
      "top": null,
      "visibility": null,
      "width": null
     }
    },
    "95bb8f5c5e114d578fff61ebca8ceeab": {
     "model_module": "@jupyter-widgets/controls",
     "model_module_version": "1.5.0",
     "model_name": "DescriptionStyleModel",
     "state": {
      "_model_module": "@jupyter-widgets/controls",
      "_model_module_version": "1.5.0",
      "_model_name": "DescriptionStyleModel",
      "_view_count": null,
      "_view_module": "@jupyter-widgets/base",
      "_view_module_version": "1.2.0",
      "_view_name": "StyleView",
      "description_width": ""
     }
    },
    "96012b27db31485d86edb861404fca6a": {
     "model_module": "@jupyter-widgets/controls",
     "model_module_version": "1.5.0",
     "model_name": "HTMLModel",
     "state": {
      "_dom_classes": [],
      "_model_module": "@jupyter-widgets/controls",
      "_model_module_version": "1.5.0",
      "_model_name": "HTMLModel",
      "_view_count": null,
      "_view_module": "@jupyter-widgets/controls",
      "_view_module_version": "1.5.0",
      "_view_name": "HTMLView",
      "description": "",
      "description_tooltip": null,
      "layout": "IPY_MODEL_a59d4f890fb6441bb10f09955cab8fd1",
      "placeholder": "​",
      "style": "IPY_MODEL_a8b39b6fc69a41c687e311caa009a4fa",
      "value": " 7339/7339 [00:10&lt;00:00, 938.44 examples/s]"
     }
    },
    "9c964c4fe34b4500a75e14568581ab15": {
     "model_module": "@jupyter-widgets/controls",
     "model_module_version": "1.5.0",
     "model_name": "DescriptionStyleModel",
     "state": {
      "_model_module": "@jupyter-widgets/controls",
      "_model_module_version": "1.5.0",
      "_model_name": "DescriptionStyleModel",
      "_view_count": null,
      "_view_module": "@jupyter-widgets/base",
      "_view_module_version": "1.2.0",
      "_view_name": "StyleView",
      "description_width": ""
     }
    },
    "a29e215d6e7447f8baa08d7e5b60b6de": {
     "model_module": "@jupyter-widgets/base",
     "model_module_version": "1.2.0",
     "model_name": "LayoutModel",
     "state": {
      "_model_module": "@jupyter-widgets/base",
      "_model_module_version": "1.2.0",
      "_model_name": "LayoutModel",
      "_view_count": null,
      "_view_module": "@jupyter-widgets/base",
      "_view_module_version": "1.2.0",
      "_view_name": "LayoutView",
      "align_content": null,
      "align_items": null,
      "align_self": null,
      "border": null,
      "bottom": null,
      "display": null,
      "flex": null,
      "flex_flow": null,
      "grid_area": null,
      "grid_auto_columns": null,
      "grid_auto_flow": null,
      "grid_auto_rows": null,
      "grid_column": null,
      "grid_gap": null,
      "grid_row": null,
      "grid_template_areas": null,
      "grid_template_columns": null,
      "grid_template_rows": null,
      "height": null,
      "justify_content": null,
      "justify_items": null,
      "left": null,
      "margin": null,
      "max_height": null,
      "max_width": null,
      "min_height": null,
      "min_width": null,
      "object_fit": null,
      "object_position": null,
      "order": null,
      "overflow": null,
      "overflow_x": null,
      "overflow_y": null,
      "padding": null,
      "right": null,
      "top": null,
      "visibility": null,
      "width": null
     }
    },
    "a3d9d9cefecb4b33ace100caef5e07ac": {
     "model_module": "@jupyter-widgets/controls",
     "model_module_version": "1.5.0",
     "model_name": "FloatProgressModel",
     "state": {
      "_dom_classes": [],
      "_model_module": "@jupyter-widgets/controls",
      "_model_module_version": "1.5.0",
      "_model_name": "FloatProgressModel",
      "_view_count": null,
      "_view_module": "@jupyter-widgets/controls",
      "_view_module_version": "1.5.0",
      "_view_name": "ProgressView",
      "bar_style": "success",
      "description": "",
      "description_tooltip": null,
      "layout": "IPY_MODEL_5be2dd25c6564f639b56b1d0f4e6540d",
      "max": 1206,
      "min": 0,
      "orientation": "horizontal",
      "style": "IPY_MODEL_b6e6a6019063469bb136cbd82767ccb1",
      "value": 1206
     }
    },
    "a50872642b7c4d069e20608d2a8b305a": {
     "model_module": "@jupyter-widgets/controls",
     "model_module_version": "1.5.0",
     "model_name": "DescriptionStyleModel",
     "state": {
      "_model_module": "@jupyter-widgets/controls",
      "_model_module_version": "1.5.0",
      "_model_name": "DescriptionStyleModel",
      "_view_count": null,
      "_view_module": "@jupyter-widgets/base",
      "_view_module_version": "1.2.0",
      "_view_name": "StyleView",
      "description_width": ""
     }
    },
    "a59d4f890fb6441bb10f09955cab8fd1": {
     "model_module": "@jupyter-widgets/base",
     "model_module_version": "1.2.0",
     "model_name": "LayoutModel",
     "state": {
      "_model_module": "@jupyter-widgets/base",
      "_model_module_version": "1.2.0",
      "_model_name": "LayoutModel",
      "_view_count": null,
      "_view_module": "@jupyter-widgets/base",
      "_view_module_version": "1.2.0",
      "_view_name": "LayoutView",
      "align_content": null,
      "align_items": null,
      "align_self": null,
      "border": null,
      "bottom": null,
      "display": null,
      "flex": null,
      "flex_flow": null,
      "grid_area": null,
      "grid_auto_columns": null,
      "grid_auto_flow": null,
      "grid_auto_rows": null,
      "grid_column": null,
      "grid_gap": null,
      "grid_row": null,
      "grid_template_areas": null,
      "grid_template_columns": null,
      "grid_template_rows": null,
      "height": null,
      "justify_content": null,
      "justify_items": null,
      "left": null,
      "margin": null,
      "max_height": null,
      "max_width": null,
      "min_height": null,
      "min_width": null,
      "object_fit": null,
      "object_position": null,
      "order": null,
      "overflow": null,
      "overflow_x": null,
      "overflow_y": null,
      "padding": null,
      "right": null,
      "top": null,
      "visibility": null,
      "width": null
     }
    },
    "a6433d840ea3409692328e5e9f809068": {
     "model_module": "@jupyter-widgets/controls",
     "model_module_version": "1.5.0",
     "model_name": "FloatProgressModel",
     "state": {
      "_dom_classes": [],
      "_model_module": "@jupyter-widgets/controls",
      "_model_module_version": "1.5.0",
      "_model_name": "FloatProgressModel",
      "_view_count": null,
      "_view_module": "@jupyter-widgets/controls",
      "_view_module_version": "1.5.0",
      "_view_name": "ProgressView",
      "bar_style": "success",
      "description": "",
      "description_tooltip": null,
      "layout": "IPY_MODEL_d93497e0a7254c8cb38ad96674e4723b",
      "max": 147,
      "min": 0,
      "orientation": "horizontal",
      "style": "IPY_MODEL_9165c2b1f0ba4d158b2a6d7f22737b76",
      "value": 147
     }
    },
    "a794b1f3622e4f13a6f9cce9e0bd6d50": {
     "model_module": "@jupyter-widgets/controls",
     "model_module_version": "1.5.0",
     "model_name": "DescriptionStyleModel",
     "state": {
      "_model_module": "@jupyter-widgets/controls",
      "_model_module_version": "1.5.0",
      "_model_name": "DescriptionStyleModel",
      "_view_count": null,
      "_view_module": "@jupyter-widgets/base",
      "_view_module_version": "1.2.0",
      "_view_name": "StyleView",
      "description_width": ""
     }
    },
    "a8b39b6fc69a41c687e311caa009a4fa": {
     "model_module": "@jupyter-widgets/controls",
     "model_module_version": "1.5.0",
     "model_name": "DescriptionStyleModel",
     "state": {
      "_model_module": "@jupyter-widgets/controls",
      "_model_module_version": "1.5.0",
      "_model_name": "DescriptionStyleModel",
      "_view_count": null,
      "_view_module": "@jupyter-widgets/base",
      "_view_module_version": "1.2.0",
      "_view_name": "StyleView",
      "description_width": ""
     }
    },
    "aa30f7600c9648b2b17bd9028a921f1b": {
     "model_module": "@jupyter-widgets/base",
     "model_module_version": "1.2.0",
     "model_name": "LayoutModel",
     "state": {
      "_model_module": "@jupyter-widgets/base",
      "_model_module_version": "1.2.0",
      "_model_name": "LayoutModel",
      "_view_count": null,
      "_view_module": "@jupyter-widgets/base",
      "_view_module_version": "1.2.0",
      "_view_name": "LayoutView",
      "align_content": null,
      "align_items": null,
      "align_self": null,
      "border": null,
      "bottom": null,
      "display": null,
      "flex": null,
      "flex_flow": null,
      "grid_area": null,
      "grid_auto_columns": null,
      "grid_auto_flow": null,
      "grid_auto_rows": null,
      "grid_column": null,
      "grid_gap": null,
      "grid_row": null,
      "grid_template_areas": null,
      "grid_template_columns": null,
      "grid_template_rows": null,
      "height": null,
      "justify_content": null,
      "justify_items": null,
      "left": null,
      "margin": null,
      "max_height": null,
      "max_width": null,
      "min_height": null,
      "min_width": null,
      "object_fit": null,
      "object_position": null,
      "order": null,
      "overflow": null,
      "overflow_x": null,
      "overflow_y": null,
      "padding": null,
      "right": null,
      "top": null,
      "visibility": null,
      "width": null
     }
    },
    "aad7fad857904190a151a91d49821c7b": {
     "model_module": "@jupyter-widgets/base",
     "model_module_version": "1.2.0",
     "model_name": "LayoutModel",
     "state": {
      "_model_module": "@jupyter-widgets/base",
      "_model_module_version": "1.2.0",
      "_model_name": "LayoutModel",
      "_view_count": null,
      "_view_module": "@jupyter-widgets/base",
      "_view_module_version": "1.2.0",
      "_view_name": "LayoutView",
      "align_content": null,
      "align_items": null,
      "align_self": null,
      "border": null,
      "bottom": null,
      "display": null,
      "flex": null,
      "flex_flow": null,
      "grid_area": null,
      "grid_auto_columns": null,
      "grid_auto_flow": null,
      "grid_auto_rows": null,
      "grid_column": null,
      "grid_gap": null,
      "grid_row": null,
      "grid_template_areas": null,
      "grid_template_columns": null,
      "grid_template_rows": null,
      "height": null,
      "justify_content": null,
      "justify_items": null,
      "left": null,
      "margin": null,
      "max_height": null,
      "max_width": null,
      "min_height": null,
      "min_width": null,
      "object_fit": null,
      "object_position": null,
      "order": null,
      "overflow": null,
      "overflow_x": null,
      "overflow_y": null,
      "padding": null,
      "right": null,
      "top": null,
      "visibility": null,
      "width": null
     }
    },
    "afab5c992e5e4290830df785b767b15d": {
     "model_module": "@jupyter-widgets/base",
     "model_module_version": "1.2.0",
     "model_name": "LayoutModel",
     "state": {
      "_model_module": "@jupyter-widgets/base",
      "_model_module_version": "1.2.0",
      "_model_name": "LayoutModel",
      "_view_count": null,
      "_view_module": "@jupyter-widgets/base",
      "_view_module_version": "1.2.0",
      "_view_name": "LayoutView",
      "align_content": null,
      "align_items": null,
      "align_self": null,
      "border": null,
      "bottom": null,
      "display": null,
      "flex": null,
      "flex_flow": null,
      "grid_area": null,
      "grid_auto_columns": null,
      "grid_auto_flow": null,
      "grid_auto_rows": null,
      "grid_column": null,
      "grid_gap": null,
      "grid_row": null,
      "grid_template_areas": null,
      "grid_template_columns": null,
      "grid_template_rows": null,
      "height": null,
      "justify_content": null,
      "justify_items": null,
      "left": null,
      "margin": null,
      "max_height": null,
      "max_width": null,
      "min_height": null,
      "min_width": null,
      "object_fit": null,
      "object_position": null,
      "order": null,
      "overflow": null,
      "overflow_x": null,
      "overflow_y": null,
      "padding": null,
      "right": null,
      "top": null,
      "visibility": null,
      "width": null
     }
    },
    "b6e6a6019063469bb136cbd82767ccb1": {
     "model_module": "@jupyter-widgets/controls",
     "model_module_version": "1.5.0",
     "model_name": "ProgressStyleModel",
     "state": {
      "_model_module": "@jupyter-widgets/controls",
      "_model_module_version": "1.5.0",
      "_model_name": "ProgressStyleModel",
      "_view_count": null,
      "_view_module": "@jupyter-widgets/base",
      "_view_module_version": "1.2.0",
      "_view_name": "StyleView",
      "bar_color": null,
      "description_width": ""
     }
    },
    "b70b5d35e5434564974556e02e02895a": {
     "model_module": "@jupyter-widgets/controls",
     "model_module_version": "1.5.0",
     "model_name": "HTMLModel",
     "state": {
      "_dom_classes": [],
      "_model_module": "@jupyter-widgets/controls",
      "_model_module_version": "1.5.0",
      "_model_name": "HTMLModel",
      "_view_count": null,
      "_view_module": "@jupyter-widgets/controls",
      "_view_module_version": "1.5.0",
      "_view_name": "HTMLView",
      "description": "",
      "description_tooltip": null,
      "layout": "IPY_MODEL_afab5c992e5e4290830df785b767b15d",
      "placeholder": "​",
      "style": "IPY_MODEL_32b24e75430e44f48d13287830def29f",
      "value": "model.safetensors: 100%"
     }
    },
    "b7671b42bfa141a9aae89329ebbead8b": {
     "model_module": "@jupyter-widgets/controls",
     "model_module_version": "1.5.0",
     "model_name": "FloatProgressModel",
     "state": {
      "_dom_classes": [],
      "_model_module": "@jupyter-widgets/controls",
      "_model_module_version": "1.5.0",
      "_model_name": "FloatProgressModel",
      "_view_count": null,
      "_view_module": "@jupyter-widgets/controls",
      "_view_module_version": "1.5.0",
      "_view_name": "ProgressView",
      "bar_style": "success",
      "description": "",
      "description_tooltip": null,
      "layout": "IPY_MODEL_c57c37af657e438a855790c616ea7163",
      "max": 7339,
      "min": 0,
      "orientation": "horizontal",
      "style": "IPY_MODEL_897dac44c66841eeb341b840dc403c1d",
      "value": 7339
     }
    },
    "b8e8e3d13ca142a2826737732cd65f84": {
     "model_module": "@jupyter-widgets/controls",
     "model_module_version": "1.5.0",
     "model_name": "DescriptionStyleModel",
     "state": {
      "_model_module": "@jupyter-widgets/controls",
      "_model_module_version": "1.5.0",
      "_model_name": "DescriptionStyleModel",
      "_view_count": null,
      "_view_module": "@jupyter-widgets/base",
      "_view_module_version": "1.2.0",
      "_view_name": "StyleView",
      "description_width": ""
     }
    },
    "ba813303f7454b39a2c6df616ae2b723": {
     "model_module": "@jupyter-widgets/base",
     "model_module_version": "1.2.0",
     "model_name": "LayoutModel",
     "state": {
      "_model_module": "@jupyter-widgets/base",
      "_model_module_version": "1.2.0",
      "_model_name": "LayoutModel",
      "_view_count": null,
      "_view_module": "@jupyter-widgets/base",
      "_view_module_version": "1.2.0",
      "_view_name": "LayoutView",
      "align_content": null,
      "align_items": null,
      "align_self": null,
      "border": null,
      "bottom": null,
      "display": null,
      "flex": null,
      "flex_flow": null,
      "grid_area": null,
      "grid_auto_columns": null,
      "grid_auto_flow": null,
      "grid_auto_rows": null,
      "grid_column": null,
      "grid_gap": null,
      "grid_row": null,
      "grid_template_areas": null,
      "grid_template_columns": null,
      "grid_template_rows": null,
      "height": null,
      "justify_content": null,
      "justify_items": null,
      "left": null,
      "margin": null,
      "max_height": null,
      "max_width": null,
      "min_height": null,
      "min_width": null,
      "object_fit": null,
      "object_position": null,
      "order": null,
      "overflow": null,
      "overflow_x": null,
      "overflow_y": null,
      "padding": null,
      "right": null,
      "top": null,
      "visibility": null,
      "width": null
     }
    },
    "bb8f3e3fdbfb409baf10bdb4f8b9709a": {
     "model_module": "@jupyter-widgets/controls",
     "model_module_version": "1.5.0",
     "model_name": "HBoxModel",
     "state": {
      "_dom_classes": [],
      "_model_module": "@jupyter-widgets/controls",
      "_model_module_version": "1.5.0",
      "_model_name": "HBoxModel",
      "_view_count": null,
      "_view_module": "@jupyter-widgets/controls",
      "_view_module_version": "1.5.0",
      "_view_name": "HBoxView",
      "box_style": "",
      "children": [
       "IPY_MODEL_85606114aaf74e38bb549c4723aec8d2",
       "IPY_MODEL_84aec12b93e54b35a52fc8592cbc503b",
       "IPY_MODEL_f46c305da01143a59acaa21c5c02e85b"
      ],
      "layout": "IPY_MODEL_aad7fad857904190a151a91d49821c7b"
     }
    },
    "c44be87a6ca14fe482968350c8cca44c": {
     "model_module": "@jupyter-widgets/controls",
     "model_module_version": "1.5.0",
     "model_name": "HBoxModel",
     "state": {
      "_dom_classes": [],
      "_model_module": "@jupyter-widgets/controls",
      "_model_module_version": "1.5.0",
      "_model_name": "HBoxModel",
      "_view_count": null,
      "_view_module": "@jupyter-widgets/controls",
      "_view_module_version": "1.5.0",
      "_view_name": "HBoxView",
      "box_style": "",
      "children": [
       "IPY_MODEL_b70b5d35e5434564974556e02e02895a",
       "IPY_MODEL_09816db779b74906a2b34a29d96e3def",
       "IPY_MODEL_85ae7ffa8f4c45a28f0166829c9f6f44"
      ],
      "layout": "IPY_MODEL_a29e215d6e7447f8baa08d7e5b60b6de"
     }
    },
    "c57c37af657e438a855790c616ea7163": {
     "model_module": "@jupyter-widgets/base",
     "model_module_version": "1.2.0",
     "model_name": "LayoutModel",
     "state": {
      "_model_module": "@jupyter-widgets/base",
      "_model_module_version": "1.2.0",
      "_model_name": "LayoutModel",
      "_view_count": null,
      "_view_module": "@jupyter-widgets/base",
      "_view_module_version": "1.2.0",
      "_view_name": "LayoutView",
      "align_content": null,
      "align_items": null,
      "align_self": null,
      "border": null,
      "bottom": null,
      "display": null,
      "flex": null,
      "flex_flow": null,
      "grid_area": null,
      "grid_auto_columns": null,
      "grid_auto_flow": null,
      "grid_auto_rows": null,
      "grid_column": null,
      "grid_gap": null,
      "grid_row": null,
      "grid_template_areas": null,
      "grid_template_columns": null,
      "grid_template_rows": null,
      "height": null,
      "justify_content": null,
      "justify_items": null,
      "left": null,
      "margin": null,
      "max_height": null,
      "max_width": null,
      "min_height": null,
      "min_width": null,
      "object_fit": null,
      "object_position": null,
      "order": null,
      "overflow": null,
      "overflow_x": null,
      "overflow_y": null,
      "padding": null,
      "right": null,
      "top": null,
      "visibility": null,
      "width": null
     }
    },
    "c943e2bf2ceb40a8bd544d5e1adde0b6": {
     "model_module": "@jupyter-widgets/base",
     "model_module_version": "1.2.0",
     "model_name": "LayoutModel",
     "state": {
      "_model_module": "@jupyter-widgets/base",
      "_model_module_version": "1.2.0",
      "_model_name": "LayoutModel",
      "_view_count": null,
      "_view_module": "@jupyter-widgets/base",
      "_view_module_version": "1.2.0",
      "_view_name": "LayoutView",
      "align_content": null,
      "align_items": null,
      "align_self": null,
      "border": null,
      "bottom": null,
      "display": null,
      "flex": null,
      "flex_flow": null,
      "grid_area": null,
      "grid_auto_columns": null,
      "grid_auto_flow": null,
      "grid_auto_rows": null,
      "grid_column": null,
      "grid_gap": null,
      "grid_row": null,
      "grid_template_areas": null,
      "grid_template_columns": null,
      "grid_template_rows": null,
      "height": null,
      "justify_content": null,
      "justify_items": null,
      "left": null,
      "margin": null,
      "max_height": null,
      "max_width": null,
      "min_height": null,
      "min_width": null,
      "object_fit": null,
      "object_position": null,
      "order": null,
      "overflow": null,
      "overflow_x": null,
      "overflow_y": null,
      "padding": null,
      "right": null,
      "top": null,
      "visibility": null,
      "width": null
     }
    },
    "caa402fd90b549ab94d1c4ec1ee20dd6": {
     "model_module": "@jupyter-widgets/base",
     "model_module_version": "1.2.0",
     "model_name": "LayoutModel",
     "state": {
      "_model_module": "@jupyter-widgets/base",
      "_model_module_version": "1.2.0",
      "_model_name": "LayoutModel",
      "_view_count": null,
      "_view_module": "@jupyter-widgets/base",
      "_view_module_version": "1.2.0",
      "_view_name": "LayoutView",
      "align_content": null,
      "align_items": null,
      "align_self": null,
      "border": null,
      "bottom": null,
      "display": null,
      "flex": null,
      "flex_flow": null,
      "grid_area": null,
      "grid_auto_columns": null,
      "grid_auto_flow": null,
      "grid_auto_rows": null,
      "grid_column": null,
      "grid_gap": null,
      "grid_row": null,
      "grid_template_areas": null,
      "grid_template_columns": null,
      "grid_template_rows": null,
      "height": null,
      "justify_content": null,
      "justify_items": null,
      "left": null,
      "margin": null,
      "max_height": null,
      "max_width": null,
      "min_height": null,
      "min_width": null,
      "object_fit": null,
      "object_position": null,
      "order": null,
      "overflow": null,
      "overflow_x": null,
      "overflow_y": null,
      "padding": null,
      "right": null,
      "top": null,
      "visibility": null,
      "width": null
     }
    },
    "d1702f6053b742f9877bfa1bf85e167a": {
     "model_module": "@jupyter-widgets/controls",
     "model_module_version": "1.5.0",
     "model_name": "DescriptionStyleModel",
     "state": {
      "_model_module": "@jupyter-widgets/controls",
      "_model_module_version": "1.5.0",
      "_model_name": "DescriptionStyleModel",
      "_view_count": null,
      "_view_module": "@jupyter-widgets/base",
      "_view_module_version": "1.2.0",
      "_view_name": "StyleView",
      "description_width": ""
     }
    },
    "d1807547c4f9459db2cbb076492bc033": {
     "model_module": "@jupyter-widgets/controls",
     "model_module_version": "1.5.0",
     "model_name": "FloatProgressModel",
     "state": {
      "_dom_classes": [],
      "_model_module": "@jupyter-widgets/controls",
      "_model_module_version": "1.5.0",
      "_model_name": "FloatProgressModel",
      "_view_count": null,
      "_view_module": "@jupyter-widgets/controls",
      "_view_module_version": "1.5.0",
      "_view_name": "ProgressView",
      "bar_style": "success",
      "description": "",
      "description_tooltip": null,
      "layout": "IPY_MODEL_3fd8a334bf46432c9663763ad7349404",
      "max": 791656,
      "min": 0,
      "orientation": "horizontal",
      "style": "IPY_MODEL_5a068e097c0444dfa9bd34788edfb47f",
      "value": 791656
     }
    },
    "d5f1f79d0263452aa28ca15d2c5692e9": {
     "model_module": "@jupyter-widgets/base",
     "model_module_version": "1.2.0",
     "model_name": "LayoutModel",
     "state": {
      "_model_module": "@jupyter-widgets/base",
      "_model_module_version": "1.2.0",
      "_model_name": "LayoutModel",
      "_view_count": null,
      "_view_module": "@jupyter-widgets/base",
      "_view_module_version": "1.2.0",
      "_view_name": "LayoutView",
      "align_content": null,
      "align_items": null,
      "align_self": null,
      "border": null,
      "bottom": null,
      "display": null,
      "flex": null,
      "flex_flow": null,
      "grid_area": null,
      "grid_auto_columns": null,
      "grid_auto_flow": null,
      "grid_auto_rows": null,
      "grid_column": null,
      "grid_gap": null,
      "grid_row": null,
      "grid_template_areas": null,
      "grid_template_columns": null,
      "grid_template_rows": null,
      "height": null,
      "justify_content": null,
      "justify_items": null,
      "left": null,
      "margin": null,
      "max_height": null,
      "max_width": null,
      "min_height": null,
      "min_width": null,
      "object_fit": null,
      "object_position": null,
      "order": null,
      "overflow": null,
      "overflow_x": null,
      "overflow_y": null,
      "padding": null,
      "right": null,
      "top": null,
      "visibility": null,
      "width": null
     }
    },
    "d732157bffe345179231dd00d9ea375c": {
     "model_module": "@jupyter-widgets/base",
     "model_module_version": "1.2.0",
     "model_name": "LayoutModel",
     "state": {
      "_model_module": "@jupyter-widgets/base",
      "_model_module_version": "1.2.0",
      "_model_name": "LayoutModel",
      "_view_count": null,
      "_view_module": "@jupyter-widgets/base",
      "_view_module_version": "1.2.0",
      "_view_name": "LayoutView",
      "align_content": null,
      "align_items": null,
      "align_self": null,
      "border": null,
      "bottom": null,
      "display": null,
      "flex": null,
      "flex_flow": null,
      "grid_area": null,
      "grid_auto_columns": null,
      "grid_auto_flow": null,
      "grid_auto_rows": null,
      "grid_column": null,
      "grid_gap": null,
      "grid_row": null,
      "grid_template_areas": null,
      "grid_template_columns": null,
      "grid_template_rows": null,
      "height": null,
      "justify_content": null,
      "justify_items": null,
      "left": null,
      "margin": null,
      "max_height": null,
      "max_width": null,
      "min_height": null,
      "min_width": null,
      "object_fit": null,
      "object_position": null,
      "order": null,
      "overflow": null,
      "overflow_x": null,
      "overflow_y": null,
      "padding": null,
      "right": null,
      "top": null,
      "visibility": null,
      "width": null
     }
    },
    "d93497e0a7254c8cb38ad96674e4723b": {
     "model_module": "@jupyter-widgets/base",
     "model_module_version": "1.2.0",
     "model_name": "LayoutModel",
     "state": {
      "_model_module": "@jupyter-widgets/base",
      "_model_module_version": "1.2.0",
      "_model_name": "LayoutModel",
      "_view_count": null,
      "_view_module": "@jupyter-widgets/base",
      "_view_module_version": "1.2.0",
      "_view_name": "LayoutView",
      "align_content": null,
      "align_items": null,
      "align_self": null,
      "border": null,
      "bottom": null,
      "display": null,
      "flex": null,
      "flex_flow": null,
      "grid_area": null,
      "grid_auto_columns": null,
      "grid_auto_flow": null,
      "grid_auto_rows": null,
      "grid_column": null,
      "grid_gap": null,
      "grid_row": null,
      "grid_template_areas": null,
      "grid_template_columns": null,
      "grid_template_rows": null,
      "height": null,
      "justify_content": null,
      "justify_items": null,
      "left": null,
      "margin": null,
      "max_height": null,
      "max_width": null,
      "min_height": null,
      "min_width": null,
      "object_fit": null,
      "object_position": null,
      "order": null,
      "overflow": null,
      "overflow_x": null,
      "overflow_y": null,
      "padding": null,
      "right": null,
      "top": null,
      "visibility": null,
      "width": null
     }
    },
    "e3e9f95712ac47fb9527c68bd56fb6e1": {
     "model_module": "@jupyter-widgets/base",
     "model_module_version": "1.2.0",
     "model_name": "LayoutModel",
     "state": {
      "_model_module": "@jupyter-widgets/base",
      "_model_module_version": "1.2.0",
      "_model_name": "LayoutModel",
      "_view_count": null,
      "_view_module": "@jupyter-widgets/base",
      "_view_module_version": "1.2.0",
      "_view_name": "LayoutView",
      "align_content": null,
      "align_items": null,
      "align_self": null,
      "border": null,
      "bottom": null,
      "display": null,
      "flex": null,
      "flex_flow": null,
      "grid_area": null,
      "grid_auto_columns": null,
      "grid_auto_flow": null,
      "grid_auto_rows": null,
      "grid_column": null,
      "grid_gap": null,
      "grid_row": null,
      "grid_template_areas": null,
      "grid_template_columns": null,
      "grid_template_rows": null,
      "height": null,
      "justify_content": null,
      "justify_items": null,
      "left": null,
      "margin": null,
      "max_height": null,
      "max_width": null,
      "min_height": null,
      "min_width": null,
      "object_fit": null,
      "object_position": null,
      "order": null,
      "overflow": null,
      "overflow_x": null,
      "overflow_y": null,
      "padding": null,
      "right": null,
      "top": null,
      "visibility": null,
      "width": null
     }
    },
    "f188fa9f95364317ad5ca0d599cca165": {
     "model_module": "@jupyter-widgets/controls",
     "model_module_version": "1.5.0",
     "model_name": "DescriptionStyleModel",
     "state": {
      "_model_module": "@jupyter-widgets/controls",
      "_model_module_version": "1.5.0",
      "_model_name": "DescriptionStyleModel",
      "_view_count": null,
      "_view_module": "@jupyter-widgets/base",
      "_view_module_version": "1.2.0",
      "_view_name": "StyleView",
      "description_width": ""
     }
    },
    "f41bb080b1904914a0f3cf73bab0830d": {
     "model_module": "@jupyter-widgets/base",
     "model_module_version": "1.2.0",
     "model_name": "LayoutModel",
     "state": {
      "_model_module": "@jupyter-widgets/base",
      "_model_module_version": "1.2.0",
      "_model_name": "LayoutModel",
      "_view_count": null,
      "_view_module": "@jupyter-widgets/base",
      "_view_module_version": "1.2.0",
      "_view_name": "LayoutView",
      "align_content": null,
      "align_items": null,
      "align_self": null,
      "border": null,
      "bottom": null,
      "display": null,
      "flex": null,
      "flex_flow": null,
      "grid_area": null,
      "grid_auto_columns": null,
      "grid_auto_flow": null,
      "grid_auto_rows": null,
      "grid_column": null,
      "grid_gap": null,
      "grid_row": null,
      "grid_template_areas": null,
      "grid_template_columns": null,
      "grid_template_rows": null,
      "height": null,
      "justify_content": null,
      "justify_items": null,
      "left": null,
      "margin": null,
      "max_height": null,
      "max_width": null,
      "min_height": null,
      "min_width": null,
      "object_fit": null,
      "object_position": null,
      "order": null,
      "overflow": null,
      "overflow_x": null,
      "overflow_y": null,
      "padding": null,
      "right": null,
      "top": null,
      "visibility": null,
      "width": null
     }
    },
    "f46c305da01143a59acaa21c5c02e85b": {
     "model_module": "@jupyter-widgets/controls",
     "model_module_version": "1.5.0",
     "model_name": "HTMLModel",
     "state": {
      "_dom_classes": [],
      "_model_module": "@jupyter-widgets/controls",
      "_model_module_version": "1.5.0",
      "_model_name": "HTMLModel",
      "_view_count": null,
      "_view_module": "@jupyter-widgets/controls",
      "_view_module_version": "1.5.0",
      "_view_name": "HTMLView",
      "description": "",
      "description_tooltip": null,
      "layout": "IPY_MODEL_448256489b0d4840888779e0446a3eeb",
      "placeholder": "​",
      "style": "IPY_MODEL_d1702f6053b742f9877bfa1bf85e167a",
      "value": " 1.39M/1.39M [00:00&lt;00:00, 29.8MB/s]"
     }
    },
    "fbf10f4deeaf4ea1af7f4535f00cace0": {
     "model_module": "@jupyter-widgets/controls",
     "model_module_version": "1.5.0",
     "model_name": "DescriptionStyleModel",
     "state": {
      "_model_module": "@jupyter-widgets/controls",
      "_model_module_version": "1.5.0",
      "_model_name": "DescriptionStyleModel",
      "_view_count": null,
      "_view_module": "@jupyter-widgets/base",
      "_view_module_version": "1.2.0",
      "_view_name": "StyleView",
      "description_width": ""
     }
    },
    "fe4a59ea5b044cdebed0afbdd80510cf": {
     "model_module": "@jupyter-widgets/base",
     "model_module_version": "1.2.0",
     "model_name": "LayoutModel",
     "state": {
      "_model_module": "@jupyter-widgets/base",
      "_model_module_version": "1.2.0",
      "_model_name": "LayoutModel",
      "_view_count": null,
      "_view_module": "@jupyter-widgets/base",
      "_view_module_version": "1.2.0",
      "_view_name": "LayoutView",
      "align_content": null,
      "align_items": null,
      "align_self": null,
      "border": null,
      "bottom": null,
      "display": null,
      "flex": null,
      "flex_flow": null,
      "grid_area": null,
      "grid_auto_columns": null,
      "grid_auto_flow": null,
      "grid_auto_rows": null,
      "grid_column": null,
      "grid_gap": null,
      "grid_row": null,
      "grid_template_areas": null,
      "grid_template_columns": null,
      "grid_template_rows": null,
      "height": null,
      "justify_content": null,
      "justify_items": null,
      "left": null,
      "margin": null,
      "max_height": null,
      "max_width": null,
      "min_height": null,
      "min_width": null,
      "object_fit": null,
      "object_position": null,
      "order": null,
      "overflow": null,
      "overflow_x": null,
      "overflow_y": null,
      "padding": null,
      "right": null,
      "top": null,
      "visibility": null,
      "width": null
     }
    }
   }
  }
 },
 "nbformat": 4,
 "nbformat_minor": 4
}
